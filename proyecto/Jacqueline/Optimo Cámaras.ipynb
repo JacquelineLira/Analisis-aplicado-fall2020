{
 "cells": [
  {
   "cell_type": "code",
   "execution_count": 2,
   "metadata": {},
   "outputs": [],
   "source": [
    "import numpy as np\n",
    "from random import random\n",
    "from IPython.display import display, Math"
   ]
  },
  {
   "cell_type": "code",
   "execution_count": 3,
   "metadata": {},
   "outputs": [],
   "source": [
    "def gradiente(f, xk, eps = 1e-6):\n",
    "    size = len(xk)\n",
    "    grad = np.zeros(size, dtype = float)\n",
    "    for i in range(size):\n",
    "        x_f = xk.copy(); \n",
    "        x_f[i] += eps\n",
    "        x_b = xk.copy(); x_b[i] -= eps\n",
    "        grad[i] = (f(x_f) - f(x_b)) / (2 * eps)\n",
    "    return grad"
   ]
  },
  {
   "cell_type": "code",
   "execution_count": 4,
   "metadata": {},
   "outputs": [],
   "source": [
    "def hessiana(f,xk, eps = 1e-3):\n",
    "    size = len(xk)\n",
    "    hess = np.zeros((size, size))\n",
    "    for j in range(size):\n",
    "        # Primera derivada\n",
    "        dx_ff = xk.copy(); dx_ff[j] += eps;\n",
    "        dx_bb = xk.copy(); dx_ff[j] += eps;\n",
    "        grad_f = gradiente(f, dx_ff)\n",
    "        grad_b = gradiente(f, dx_bb)\n",
    "        for i in range(j+1):\n",
    "            # Segunda derivada\n",
    "            hess[i, j] = (grad_f[i] - grad_b[i]) / (2 * eps)\n",
    "            hess[j, i] = (grad_f[i] - grad_b[i]) / (2 * eps)\n",
    "    return hess"
   ]
  },
  {
   "cell_type": "code",
   "execution_count": 5,
   "metadata": {},
   "outputs": [],
   "source": [
    "def Newton(f, xk, alpha, eps = 1e-6, max_iter = 1000): \n",
    "    for k in range(max_iter):\n",
    "        grad = gradiente(f, xk)\n",
    "        if(np.linalg.norm(grad) < eps): break\n",
    "        hess = hessiana(f, xk)\n",
    "        try:\n",
    "            pk = np.linalg.solve(hess, -grad)\n",
    "        except np.linalg.LinAlgError as err:\n",
    "            print(\"La hessiana no es positiva definida\")\n",
    "            break\n",
    "        xk = xk + alpha * pk\n",
    "    return xk"
   ]
  },
  {
   "cell_type": "code",
   "execution_count": 6,
   "metadata": {},
   "outputs": [],
   "source": [
    "def BLS(f, xk, alpha_0, pk, c):\n",
    "    alpha = alpha_0\n",
    "    while f(xk + alpha * pk) > f(xk) + c * alpha * gradiente(f, xk) @ pk:\n",
    "        p = random()\n",
    "        alpha = p * alpha\n",
    "    return alpha"
   ]
  },
  {
   "cell_type": "code",
   "execution_count": 7,
   "metadata": {},
   "outputs": [],
   "source": [
    "def LSN(f, xk):\n",
    "    for k in range(100):\n",
    "        Bk = hessiana(f, xk)\n",
    "        try:\n",
    "            pk = np.linalg.solve(Bk, - gradiente(f, xk))\n",
    "        except np.linalg.LinAlgError as err:\n",
    "            print(\"La hessiana no es positiva definida\")\n",
    "            break\n",
    "        xk = xk + BLS(f, xk, 1, pk, 0.5) * pk\n",
    "    return xk"
   ]
  },
  {
   "cell_type": "code",
   "execution_count": 8,
   "metadata": {},
   "outputs": [],
   "source": [
    "def CAMI(A):\n",
    "    beta = 0.001\n",
    "    n = len(A)\n",
    "    if min(np.diag(A)) > 0:\n",
    "        t = 0\n",
    "    else:\n",
    "        t = -min(np.diag(A)) + beta\n",
    "    for k in range(100):\n",
    "        try:\n",
    "            np.linalg.cholesky(A + t * np.identity(n))\n",
    "        except np.linalg.LinAlgError as err:\n",
    "            t = max(2 * t, beta)\n",
    "        else:\n",
    "            break\n",
    "    return A + t * np.identity(n)"
   ]
  },
  {
   "cell_type": "code",
   "execution_count": 9,
   "metadata": {},
   "outputs": [],
   "source": [
    "def LSNM(f, xk):\n",
    "    for k in range(100):\n",
    "        Bk = hessiana(f, xk)\n",
    "        try:\n",
    "            np.linalg.cholesky(Bk)\n",
    "        except np.linalg.LinAlgError as err:\n",
    "            Bk = CAMI(Bk)   \n",
    "        pk = np.linalg.solve(Bk, - gradiente(f, xk))\n",
    "        xk = xk + BLS(f, xk, 1, pk, 0.5) * pk\n",
    "    return xk"
   ]
  },
  {
   "cell_type": "code",
   "execution_count": 10,
   "metadata": {},
   "outputs": [],
   "source": [
    "def BFGS(f, xk, Hk, eps = 1e-6, max_iter = 10000):\n",
    "    I = np.identity(len(xk))\n",
    "    for k in range(max_iter):\n",
    "        grad = gradiente(f, xk)\n",
    "        if(np.linalg.norm(grad) < eps): break\n",
    "        #Dirección de Descenso\n",
    "        pk = -Hk @ grad\n",
    "        #Calculamos el tamaño del paso\n",
    "        alpha = BLS(f, xk, 1, pk, 0.5)\n",
    "        #Nueva x\n",
    "        sk = alpha*pk; sk_t = sk.transpose()\n",
    "        xk = xk + sk\n",
    "        #Calculamos yk y phi_k\n",
    "        yk = gradiente(f,xk) - grad; yk_t = yk.transpose();\n",
    "        if(yk_t@sk == 0): break\n",
    "        phi_k = 1.0/(yk_t@sk)\n",
    "        #Calculamos la nueva hessiana inversa\n",
    "        Hk = (I - phi_k*sk@yk_t)@Hk@(I - phi_k*sk@yk_t) + phi_k * sk @ sk_t\n",
    "    return xk"
   ]
  },
  {
   "cell_type": "markdown",
   "metadata": {},
   "source": [
    "### Optimización de función de distancia"
   ]
  },
  {
   "cell_type": "code",
   "execution_count": 11,
   "metadata": {},
   "outputs": [],
   "source": [
    "import math\n",
    "import pandas as pd"
   ]
  },
  {
   "cell_type": "code",
   "execution_count": 12,
   "metadata": {},
   "outputs": [],
   "source": [
    "data=pd.read_csv('crime_data.csv')\n",
    "#Filtramos por fecha\n",
    "fecha_inicio = '2019-12-25'\n",
    "fecha_fin = '2019-12-25'\n",
    "data = data.loc[((data['date']>=fecha_inicio) & (data['date']<=fecha_fin))]\n",
    "#Nos quedamos con sólo longitud y latitud\n",
    "data = data[{'lat','long'}]\n",
    "#Lo convertimos en un numpy array\n",
    "crimes = data.to_numpy()"
   ]
  },
  {
   "cell_type": "code",
   "execution_count": 13,
   "metadata": {},
   "outputs": [],
   "source": [
    "n = 8 # Número de cameras\n",
    "cameras = crimes[:8].copy()"
   ]
  },
  {
   "cell_type": "code",
   "execution_count": 14,
   "metadata": {},
   "outputs": [],
   "source": [
    "# Regresa la distancia entre dos ountos que se encuentran  en lat y lon\n",
    "def haversine(p1, p2):\n",
    "    # Pasamos de decimales a radianes\n",
    "    p1_lat = math.radians(p1[0]);p1_lon = math.radians(p1[1]);\n",
    "    p2_lat = math.radians(p2[0]);p2_lon = math.radians(p2[1]);\n",
    "    # formula de haversine\n",
    "    h = math.sin((p2_lat-p1_lat)/2)**2 + math.cos(p1_lat) * math.cos(p2_lat) * math.sin((p2_lon-p1_lon)/2)**2\n",
    "    c = 2 * math.asin(math.sqrt(h)) \n",
    "    r = 6371 # Radio de la tierra en km\n",
    "    return c * r"
   ]
  },
  {
   "cell_type": "code",
   "execution_count": 15,
   "metadata": {},
   "outputs": [],
   "source": [
    "def distancia_min(x, crimenes = crimes):\n",
    "    #Suponemos x una función con latitud y longitud\n",
    "    dist = 0\n",
    "    for i in range(len(x)):\n",
    "        for j in range(len(crimenes)):\n",
    "            dist += haversine(x[i], crimenes[j])\n",
    "        for j in range(len(x)):\n",
    "            if(i != j):\n",
    "                dist += 1/(haversine(x[i], x[j]))\n",
    "    return dist "
   ]
  },
  {
   "cell_type": "code",
   "execution_count": 16,
   "metadata": {},
   "outputs": [
    {
     "data": {
      "text/plain": [
       "2140.859064989902"
      ]
     },
     "execution_count": 16,
     "metadata": {},
     "output_type": "execute_result"
    }
   ],
   "source": [
    "#Distancia original\n",
    "distancia_min(cameras)"
   ]
  },
  {
   "cell_type": "code",
   "execution_count": 59,
   "metadata": {},
   "outputs": [],
   "source": [
    "def haversine(p1_a,p1_o, p2_a,p2_o):\n",
    "    # Pasamos de decimales a radianes\n",
    "    p1_lat = math.radians(p1_a);p1_lon = math.radians(p1_o);\n",
    "    p2_lat = math.radians(p2_a);p2_lon = math.radians(p2_o);\n",
    "    # formula de haversine\n",
    "    h = math.sin((p2_lat-p1_lat)/2)**2 + math.cos(p1_lat) * math.cos(p2_lat) * math.sin((p2_lon-p1_lon)/2)**2\n",
    "    c = 2 * math.asin(math.sqrt(h)) \n",
    "    r = 6371 # Radio de la tierra en km\n",
    "    return c * r\n",
    "\n",
    "cam_2 = np.zeros(2*len(cameras))\n",
    "j = 0\n",
    "for i in range(len(cameras)):\n",
    "    cam_2[j] = (cameras[i])[0]\n",
    "    cam_2[j+1] = (cameras[i])[1]\n",
    "    j = j+2\n",
    "    \n",
    "cri_2 = np.zeros(2*len(crimes))\n",
    "j = 0\n",
    "for i in range(len(crimes)):\n",
    "    cri_2[j] = (crimes[i])[0]\n",
    "    cri_2[j+1] = (crimes[i])[1]\n",
    "    j=j+2\n",
    "    \n",
    "def distancia_min(x, crimenes = cri_2):\n",
    "    #Suponemos x una función con latitud y longitud\n",
    "    dist = 0\n",
    "    for i in range(int(len(x)/2)):\n",
    "        for j in range(int(len(crimenes)/2)):\n",
    "            dist += haversine(x[i],x[i+1], crimenes[j],crimenes[j+1])\n",
    "        for j in range(int(len(x)/2)):\n",
    "            if(i != j):\n",
    "                dist += 1/(haversine(x[i],x[i+1], x[j],x[j+1]))\n",
    "    return dist "
   ]
  },
  {
   "cell_type": "code",
   "execution_count": 63,
   "metadata": {},
   "outputs": [
    {
     "data": {
      "text/plain": [
       "array([-99.14583059,  19.26326885, -99.12509339,  19.2452067 ,\n",
       "       -99.13185928,  19.27833462, -99.11662706,  19.26561897,\n",
       "       -99.10592306,  19.3758    , -99.09761   ,  19.35711   ,\n",
       "       -99.06398   ,  19.31785   , -99.13508   ,  19.51575   ])"
      ]
     },
     "execution_count": 63,
     "metadata": {},
     "output_type": "execute_result"
    }
   ],
   "source": [
    "distancia_min(cam_2,cri_2)\n",
    "LSNM(distancia_min, cam_2) "
   ]
  },
  {
   "cell_type": "code",
   "execution_count": 64,
   "metadata": {},
   "outputs": [],
   "source": [
    "x = np.array([[-99.14583059,  19.26326885], [-99.12509339,  19.2452067] ,\n",
    "       [-99.13185928,  19.27833462], [-99.11662706,  19.26561897],\n",
    "       [-99.10592306,  19.3758]    , [-99.09761   ,  19.35711]   ,\n",
    "       [-99.06398   ,  19.31785]   , [-99.13508   ,  19.51575]])"
   ]
  },
  {
   "cell_type": "code",
   "execution_count": 65,
   "metadata": {},
   "outputs": [],
   "source": [
    "def haversine(p1, p2):\n",
    "    # Pasamos de decimales a radianes\n",
    "    p1_lat = math.radians(p1[0]);p1_lon = math.radians(p1[1]);\n",
    "    p2_lat = math.radians(p2[0]);p2_lon = math.radians(p2[1]);\n",
    "    # formula de haversine\n",
    "    h = math.sin((p2_lat-p1_lat)/2)**2 + math.cos(p1_lat) * math.cos(p2_lat) * math.sin((p2_lon-p1_lon)/2)**2\n",
    "    c = 2 * math.asin(math.sqrt(h)) \n",
    "    r = 6371 # Radio de la tierra en km\n",
    "    return c * r\n",
    "\n",
    "def distancia_min(x, crimenes = crimes):\n",
    "    #Suponemos x una función con latitud y longitud\n",
    "    dist = 0\n",
    "    for i in range(len(x)):\n",
    "        for j in range(len(crimenes)):\n",
    "            dist += haversine(x[i], crimenes[j])\n",
    "        for j in range(len(x)):\n",
    "            if(i != j):\n",
    "                dist += 1/(haversine(x[i], x[j]))\n",
    "    return dist "
   ]
  },
  {
   "cell_type": "code",
   "execution_count": 66,
   "metadata": {},
   "outputs": [
    {
     "data": {
      "text/plain": [
       "2076.45792203015"
      ]
     },
     "execution_count": 66,
     "metadata": {},
     "output_type": "execute_result"
    }
   ],
   "source": [
    "# Distancia modificada\n",
    "distancia_min(x)"
   ]
  },
  {
   "cell_type": "code",
   "execution_count": null,
   "metadata": {},
   "outputs": [],
   "source": []
  }
 ],
 "metadata": {
  "kernelspec": {
   "display_name": "Python 3",
   "language": "python",
   "name": "python3"
  },
  "language_info": {
   "codemirror_mode": {
    "name": "ipython",
    "version": 3
   },
   "file_extension": ".py",
   "mimetype": "text/x-python",
   "name": "python",
   "nbconvert_exporter": "python",
   "pygments_lexer": "ipython3",
   "version": "3.8.3"
  }
 },
 "nbformat": 4,
 "nbformat_minor": 4
}
