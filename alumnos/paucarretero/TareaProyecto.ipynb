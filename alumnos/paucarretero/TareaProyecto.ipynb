{
 "cells": [
  {
   "cell_type": "code",
   "execution_count": 2,
   "metadata": {},
   "outputs": [],
   "source": [
    "import numpy as np"
   ]
  },
  {
   "cell_type": "code",
   "execution_count": 3,
   "metadata": {},
   "outputs": [],
   "source": [
    "def hessiana(f, x0): #x0 in R^n, np.array\n",
    "    n=x0.size\n",
    "    eps=0.000001\n",
    "    hes=np.zeros((n,n))\n",
    "    for i in range(n):\n",
    "        for j in range(n):\n",
    "            aux1=np.zeros(n)\n",
    "            aux1[i] += eps\n",
    "            aux1[j] += eps\n",
    "            xi1=x0+aux1\n",
    "            aux2=np.zeros(n)\n",
    "            aux2[i] += eps\n",
    "            xi2= x0+aux2\n",
    "            aux3=np.zeros(n)\n",
    "            aux3[j] += eps\n",
    "            xi3 = x0+aux3\n",
    "            hes[i,j]=f(xi1)-f(xi2)-f(xi3)+f(x0)\n",
    "          \n",
    "            hes[i,j]/= eps**2\n",
    "            \n",
    "    return hes"
   ]
  },
  {
   "cell_type": "code",
   "execution_count": 4,
   "metadata": {},
   "outputs": [],
   "source": [
    "def gradiente(f, x0): #x0 in R^n, np.array. f a function\n",
    "    n=x0.size\n",
    "    eps=0.000000001\n",
    "    res=np.zeros(n)\n",
    "    for i in range(n):\n",
    "        aux=np.zeros(n)\n",
    "        aux[i] +=eps\n",
    "        xi=x0+aux\n",
    "        res[i]=(f(xi)-f(x0))/eps\n",
    "    return res"
   ]
  },
  {
   "cell_type": "code",
   "execution_count": 5,
   "metadata": {},
   "outputs": [],
   "source": [
    "def check_pos_def(A):\n",
    "  n = A.shape[0]\n",
    "  detmenhess = np.zeros(n)\n",
    "  for i in range(n):\n",
    "    menori=A[0:i+1,0:i+1]\n",
    "    detmenhess[i]=np.linalg.det(menori)\n",
    "  return max(detmenhess) > 0"
   ]
  },
  {
   "cell_type": "code",
   "execution_count": 6,
   "metadata": {},
   "outputs": [],
   "source": [
    "def backtraking_line_search(f, xk, pk, alfa, rho, c):\n",
    "  a = alfa\n",
    "  while f(xk + a*pk) > f(xk) + c*a*np.dot(gradiente(f, xk), pk):\n",
    "    a = rho * a\n",
    "  return a"
   ]
  },
  {
   "cell_type": "code",
   "execution_count": 7,
   "metadata": {},
   "outputs": [],
   "source": [
    "def find_Ek(Bk):\n",
    "  n = Bk.shape[0]\n",
    "  Ek = np.identity(n)\n",
    "  menor = abs(min(Bk.diagonal())) + 1e-9\n",
    "  while not check_pos_def(Bk + Ek):\n",
    "    Ek += menor * np.identity(n)\n",
    "    menor *= 2\n",
    "  return Ek\n"
   ]
  },
  {
   "cell_type": "code",
   "execution_count": 8,
   "metadata": {},
   "outputs": [],
   "source": [
    "def line_search_newton_with_modification(f, x0, iter, alfa = 1, rho = 0.8, c = 0.1):\n",
    "  xk = x0\n",
    "  alfak = alfa\n",
    "  for k in range(iter):\n",
    "    H = hessiana(f, xk)\n",
    "    Ek = find_Ek(H)\n",
    "    Bk = H + Ek\n",
    "    pk = np.linalg.solve(Bk, -gradiente(f, xk))\n",
    "    alfak = backtraking_line_search(f, xk, pk, alfak, rho, c)\n",
    "    xk = xk + alfak * pk\n",
    "  return xk"
   ]
  },
  {
   "cell_type": "code",
   "execution_count": 9,
   "metadata": {},
   "outputs": [],
   "source": [
    "def rosenbrock(x, a, b):\n",
    "  return float((a - x[0])**2 + b*((x[1] - x[0]**2)**2))\n",
    "\n",
    "def rosenbrock_fn(a, b):\n",
    "  def rosenbrock_fn_ev(x):\n",
    "    return rosenbrock(x, a, b)\n",
    "  return rosenbrock_fn_ev"
   ]
  },
  {
   "cell_type": "code",
   "execution_count": 10,
   "metadata": {},
   "outputs": [
    {
     "name": "stdout",
     "output_type": "stream",
     "text": [
      "--------------------------------\n",
      "a=1, b=100\n",
      "x0=[1.2 1.2], xf=[0.99999998 0.99999997], val=3.330180413911795e-16\n",
      "x0=[-1.2  1. ], xf=[0.9999997 0.9999994], val=9.032516157990735e-14\n",
      "--------------------------------\n",
      "a=1, b=1\n",
      "x0=[1.2 1.2], xf=[1. 1.], val=8.193851636437653e-19\n",
      "x0=[-1.2  1. ], xf=[1.         0.99999999], val=1.2499999737040927e-17\n",
      "--------------------------------\n",
      "a=1, b=2000\n",
      "x0=[1.2 1.2], xf=[1.00000019 1.00000039], val=3.837657104506828e-14\n",
      "x0=[-1.2  1. ], xf=[0.999994 0.999988], val=3.600577873947082e-11\n",
      "--------------------------------\n",
      "a=1, b=300\n",
      "x0=[1.2 1.2], xf=[1.00000004 1.00000009], val=2.1066016356762834e-15\n",
      "x0=[-1.2  1. ], xf=[0.9999991 0.9999982], val=8.109728051991736e-13\n",
      "--------------------------------\n",
      "a=2, b=100\n",
      "x0=[1.2 1.2], xf=[1.999999 3.999996], val=1.0010238170190205e-12\n",
      "x0=[-1.2  1. ], xf=[1.999999 3.999996], val=1.0010238183075443e-12\n",
      "--------------------------------\n",
      "a=2, b=1\n",
      "x0=[1.2 1.2], xf=[1.99999999 3.99999996], val=1.1050002761149712e-16\n",
      "x0=[-1.2  1. ], xf=[1.99999999 3.99999996], val=1.1050002761149712e-16\n",
      "--------------------------------\n",
      "a=2, b=2000\n",
      "x0=[1.2 1.2], xf=[1.99998 3.99992], val=4.000061778383587e-10\n",
      "x0=[-1.2  1. ], xf=[1.99997991 3.99991963], val=4.0367817687136703e-10\n",
      "--------------------------------\n",
      "a=2, b=300\n",
      "x0=[1.2 1.2], xf=[1.999997 3.999988], val=9.00302637459043e-12\n",
      "x0=[-1.2  1. ], xf=[1.999997 3.999988], val=9.003026382318893e-12\n",
      "--------------------------------\n",
      "a=3, b=100\n",
      "x0=[1.2 1.2], xf=[2.9999979 8.9999874], val=4.412116105406346e-12\n",
      "x0=[-1.2  1. ], xf=[2.9999979  8.99998739], val=4.415190757022054e-12\n",
      "--------------------------------\n",
      "a=3, b=1\n",
      "x0=[1.2 1.2], xf=[2.99999998 8.99999987], val=4.625001911098791e-16\n",
      "x0=[-1.2  1. ], xf=[2.99999998 8.99999987], val=4.625001911098791e-16\n",
      "--------------------------------\n",
      "a=3, b=2000\n",
      "x0=[1.2 1.2], xf=[2.99995654 8.99973924], val=1.8888329378988676e-09\n",
      "x0=[-1.2  1. ], xf=[2.99955843 8.99735074], val=1.9498637492471932e-07\n",
      "--------------------------------\n",
      "a=3, b=300\n",
      "x0=[1.2 1.2], xf=[2.9999937 8.9999622], val=3.969610623479874e-11\n",
      "x0=[-1.2  1. ], xf=[2.99999364 8.99996181], val=4.051068731177897e-11\n",
      "--------------------------------\n",
      "a=5, b=100\n",
      "x0=[1.2 1.2], xf=[ 4.99993799 24.99937989], val=3.844988548917634e-09\n",
      "x0=[-1.2  1. ], xf=[ 4.99951833 24.99518309], val=2.320249547991621e-07\n",
      "--------------------------------\n",
      "a=5, b=1\n",
      "x0=[1.2 1.2], xf=[ 4.99999994 24.9999994 ], val=3.575530707857546e-15\n",
      "x0=[-1.2  1. ], xf=[ 4.99999994 24.9999994 ], val=3.604184606120667e-15\n",
      "--------------------------------\n",
      "a=5, b=2000\n",
      "x0=[1.2 1.2], xf=[ 4.94539222 24.45690131], val=0.002982026480885289\n",
      "x0=[-1.2  1. ], xf=[ 4.77429735 22.79390093], val=0.05094209259666334\n",
      "--------------------------------\n",
      "a=5, b=300\n",
      "x0=[1.2 1.2], xf=[ 4.99783202 24.97832415], val=4.700305494582682e-06\n",
      "x0=[-1.2  1. ], xf=[ 4.99096263 24.909705  ], val=8.167671782148737e-05\n",
      "--------------------------------\n",
      "a=7, b=100\n",
      "x0=[1.2 1.2], xf=[ 6.99043254 48.86614035], val=9.154083807611356e-05\n",
      "x0=[-1.2  1. ], xf=[ 6.93446876 48.08680983], val=0.004294565802058742\n",
      "--------------------------------\n",
      "a=7, b=1\n",
      "x0=[1.2 1.2], xf=[ 6.99993083 48.99902672], val=4.8085557879192e-09\n",
      "x0=[-1.2  1. ], xf=[ 6.9999289  48.99899959], val=5.0803082104467845e-09\n",
      "--------------------------------\n",
      "a=7, b=2000\n",
      "x0=[1.2 1.2], xf=[ 6.46987303 41.85923137], val=0.2810359204493361\n",
      "x0=[-1.2  1. ], xf=[ 6.17928864 38.18356289], val=0.6735712214181272\n",
      "--------------------------------\n",
      "a=7, b=300\n",
      "x0=[1.2 1.2], xf=[ 6.87557386 47.2734855 ], val=0.015482141560005316\n",
      "x0=[-1.2  1. ], xf=[ 6.76844033 45.81172646], val=0.053620891515436496\n"
     ]
    }
   ],
   "source": [
    "As = [1, 2, 3, 5, 7]\n",
    "Bs = [100, 1, 2000, 300]\n",
    "\n",
    "for a in As:\n",
    "  for b in Bs:\n",
    "    print(\"--------------------------------\")\n",
    "    print(\"a={}, b={}\".format(a, b))\n",
    "    f = rosenbrock_fn(a, b)\n",
    "    \n",
    "    x0 = np.array([1.2, 1.2])\n",
    "    iter = 1000\n",
    "    xf = line_search_newton_with_modification(f, x0, iter)\n",
    "    print(\"x0={}, xf={}, val={}\".format(x0, xf, f(xf)))\n",
    "\n",
    "    x0 = np.array([-1.2, 1.0])\n",
    "    iter = 1000\n",
    "    xf = line_search_newton_with_modification(f, x0, iter)\n",
    "    print(\"x0={}, xf={}, val={}\".format(x0, xf, f(xf)))"
   ]
  },
  {
   "cell_type": "code",
   "execution_count": null,
   "metadata": {},
   "outputs": [],
   "source": []
  },
  {
   "cell_type": "code",
   "execution_count": null,
   "metadata": {},
   "outputs": [],
   "source": []
  }
 ],
 "metadata": {
  "kernelspec": {
   "display_name": "Python 3",
   "language": "python",
   "name": "python3"
  },
  "language_info": {
   "codemirror_mode": {
    "name": "ipython",
    "version": 3
   },
   "file_extension": ".py",
   "mimetype": "text/x-python",
   "name": "python",
   "nbconvert_exporter": "python",
   "pygments_lexer": "ipython3",
   "version": "3.8.5"
  }
 },
 "nbformat": 4,
 "nbformat_minor": 4
}
