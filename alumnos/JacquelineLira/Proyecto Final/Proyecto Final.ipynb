{
 "cells": [
  {
   "cell_type": "markdown",
   "metadata": {},
   "source": [
    "# Proyecto Final Análisis Aplicado\n",
    "Jacqueline Lira Chávez **167334**  \n",
    "\n",
    "El objetivo de este proyecto es implementar los siguientes algoritmos\n",
    "* BFGS\n",
    "* Búsqueda Lineal de Newton con Modificación a la Hessiana\n",
    "* Algoritmo de Newton\n",
    "* Búsqueda Lineal Base (sin modificación a la Hessiana)"
   ]
  },
  {
   "cell_type": "markdown",
   "metadata": {},
   "source": [
    "## Código"
   ]
  },
  {
   "cell_type": "markdown",
   "metadata": {},
   "source": [
    "#### Imports"
   ]
  },
  {
   "cell_type": "code",
   "execution_count": 32,
   "metadata": {},
   "outputs": [],
   "source": [
    "import numpy as np\n",
    "from random import random\n",
    "from IPython.display import display, Math"
   ]
  },
  {
   "cell_type": "markdown",
   "metadata": {},
   "source": [
    "#### Gradiente\n",
    "Código que calcula el gradiente de la función f en el punto xk utilizando la derivada mediante la diferencia central.\n",
    "$$f'(x_k) = \\frac{f(x_k+k)-f(x_k-k)}{2k}$$"
   ]
  },
  {
   "cell_type": "code",
   "execution_count": 33,
   "metadata": {},
   "outputs": [],
   "source": [
    "def gradiente(f, xk, eps = 1e-6):\n",
    "    size = len(xk)\n",
    "    grad = np.zeros(size, dtype = float)\n",
    "    for i in range(size):\n",
    "        x_f = xk.copy(); \n",
    "        x_f[i] += eps\n",
    "        x_b = xk.copy(); x_b[i] -= eps\n",
    "        grad[i] = (f(x_f) - f(x_b)) / (2 * eps)\n",
    "    return grad"
   ]
  },
  {
   "cell_type": "markdown",
   "metadata": {},
   "source": [
    "#### Hessiana\n",
    "Código que calcula el hessiana de la función f en el punto $x_k$ utilizando la derivada mediante la diferencia \n",
    "central, utilizando la función gradiente. $$f''(x_k) = \\frac{f'(x_k+h)-f'(x_k-h)}{2h}$$"
   ]
  },
  {
   "cell_type": "code",
   "execution_count": 34,
   "metadata": {},
   "outputs": [],
   "source": [
    "def hessiana(f,xk, eps = 1e-3):\n",
    "    size = len(xk)\n",
    "    hess = np.zeros((size, size))\n",
    "    for j in range(size):\n",
    "        # Primera derivada\n",
    "        dx_ff = xk.copy(); dx_ff[j] += eps;\n",
    "        dx_bb = xk.copy(); dx_ff[j] += eps;\n",
    "        grad_f = gradiente(f, dx_ff)\n",
    "        grad_b = gradiente(f, dx_bb)\n",
    "        for i in range(j+1):\n",
    "            # Segunda derivada\n",
    "            hess[i, j] = (grad_f[i] - grad_b[i]) / (2 * eps)\n",
    "            hess[j, i] = (grad_f[i] - grad_b[i]) / (2 * eps)\n",
    "    return hess"
   ]
  },
  {
   "cell_type": "markdown",
   "metadata": {},
   "source": [
    "#### Newton\n",
    "Este es el algoritmo de Newton básico, en dónde $\\alpha$ le es dada. En este no incluimos la modificación a la Hessiana"
   ]
  },
  {
   "cell_type": "code",
   "execution_count": 190,
   "metadata": {},
   "outputs": [],
   "source": [
    "def Newton(f, xk, alpha, eps = 1e-6, max_iter = 1000): \n",
    "    for k in range(max_iter):\n",
    "        grad = gradiente(f, xk)\n",
    "        if(np.linalg.norm(grad) < eps): break\n",
    "        hess = hessiana(f, xk)\n",
    "        try:\n",
    "            pk = np.linalg.solve(hess, -grad)\n",
    "        except np.linalg.LinAlgError as err:\n",
    "            print(\"La hessiana no es positiva definida\")\n",
    "            break\n",
    "        xk = xk + alpha * pk\n",
    "    return xk"
   ]
  },
  {
   "cell_type": "markdown",
   "metadata": {},
   "source": [
    "#### Backtracking Line Search (Algoritmo 3.1)\n",
    "Algoritmo que determina la cantidad a moverse dentro de una dirección de búsqueda.\n",
    "Notamos que para métodos Newton y quasi-Newton se útiliza el valor inicial $\\alpha_0 = 1$"
   ]
  },
  {
   "cell_type": "code",
   "execution_count": 40,
   "metadata": {},
   "outputs": [],
   "source": [
    "def BLS(f, xk, alpha_0, pk, c):\n",
    "    alpha = alpha_0\n",
    "    while f(xk + alpha * pk) > f(xk) + c * alpha * gradiente(f, xk) @ pk:\n",
    "        p = random()\n",
    "        alpha = p * alpha\n",
    "    return alpha"
   ]
  },
  {
   "cell_type": "markdown",
   "metadata": {},
   "source": [
    "#### Búsqueda Lineal de Newton\n",
    "En este método se implementa la búsqueda lineal de Newton, con un $\\alpha$ cambiante, pero todavía no incluímos la modificación a la hessiana."
   ]
  },
  {
   "cell_type": "code",
   "execution_count": 207,
   "metadata": {},
   "outputs": [],
   "source": [
    "def LSN(f, xk):\n",
    "    for k in range(100):\n",
    "        Bk = hessiana(f, xk)\n",
    "        try:\n",
    "            pk = np.linalg.solve(Bk, - gradiente(f, xk))\n",
    "        except np.linalg.LinAlgError as err:\n",
    "            print(\"La hessiana no es positiva definida\")\n",
    "            break\n",
    "        xk = xk + BLS(f, xk, 1, pk, 0.5) * pk\n",
    "    return xk"
   ]
  },
  {
   "cell_type": "markdown",
   "metadata": {},
   "source": [
    "#### Cholesky with Added Múltiple of the Identity (Algoritmo 3.3)\n",
    "Buscamos $\\tau$ de tal forma que la matriz $A + \\tau I$ es positiva semidefinida, por lo que iterativamente se va aumentando $\\tau$ hasta que se cumpla"
   ]
  },
  {
   "cell_type": "code",
   "execution_count": 7,
   "metadata": {},
   "outputs": [],
   "source": [
    "def CAMI(A):\n",
    "    beta = 0.001\n",
    "    n = len(A)\n",
    "    if min(np.diag(A)) > 0:\n",
    "        t = 0\n",
    "    else:\n",
    "        t = -min(np.diag(A)) + beta\n",
    "    for k in range(100):\n",
    "        try:\n",
    "            np.linalg.cholesky(A + t * np.identity(n))\n",
    "        except np.linalg.LinAlgError as err:\n",
    "            t = max(2 * t, beta)\n",
    "        else:\n",
    "            break\n",
    "    return A + t * np.identity(n)"
   ]
  },
  {
   "cell_type": "markdown",
   "metadata": {},
   "source": [
    "#### Line Search Newton with Modification (Algoritmo 3.2)\n",
    "Se le hace una modificación al algoritmo de Newton para que se puede utilizar aunque la matriz hessiana no sea semipositiva definida."
   ]
  },
  {
   "cell_type": "code",
   "execution_count": 8,
   "metadata": {},
   "outputs": [],
   "source": [
    "def LSNM(f, xk):\n",
    "    for k in range(100):\n",
    "        Bk = hessiana(f, xk)\n",
    "        try:\n",
    "            np.linalg.cholesky(Bk)\n",
    "        except np.linalg.LinAlgError as err:\n",
    "            Bk = CAMI(Bk)   \n",
    "        pk = np.linalg.solve(Bk, - gradiente(f, xk))\n",
    "        xk = xk + BLS(f, xk, 1, pk, 0.5) * pk\n",
    "    return xk"
   ]
  },
  {
   "cell_type": "markdown",
   "metadata": {},
   "source": [
    "#### BFGS\n",
    "Algoritmo nombrado por sus descubridores, Broyden, Fletcher, Goldfarb y Shanno."
   ]
  },
  {
   "cell_type": "code",
   "execution_count": 73,
   "metadata": {},
   "outputs": [],
   "source": [
    "def BFGS(f, xk, Hk, eps = 1e-6, max_iter = 10000):\n",
    "    I = np.identity(len(xk))\n",
    "    for k in range(max_iter):\n",
    "        grad = gradiente(f, xk)\n",
    "        if(np.linalg.norm(grad) < eps): break\n",
    "        #Dirección de Descenso\n",
    "        pk = -Hk @ grad\n",
    "        #Calculamos el tamaño del paso\n",
    "        alpha = BLS(f, xk, 1, pk, 0.5)\n",
    "        #Nueva x\n",
    "        sk = alpha*pk; sk_t = sk.transpose()\n",
    "        xk = xk + sk\n",
    "        #Calculamos yk y phi_k\n",
    "        yk = gradiente(f,xk) - grad; yk_t = yk.transpose();\n",
    "        if(yk_t@sk == 0): break\n",
    "        phi_k = 1.0/(yk_t@sk)\n",
    "        #Calculamos la nueva hessiana inversa\n",
    "        Hk = (I - phi_k*sk@yk_t)@Hk@(I - phi_k*sk@yk_t) + phi_k * sk @ sk_t\n",
    "    return xk"
   ]
  },
  {
   "cell_type": "markdown",
   "metadata": {},
   "source": [
    "## Pruebas\n",
    "Para probar nuestro algoritmo utilizamos la función de Rosenbrock definida como $f(x,y)=(a-x)^2+b(y-x^2)^2$, que tiene un mínimo local en $(a,a^2)$, con diversos valores para $a$ y $b$ y puntos iniciales $(x,y)$"
   ]
  },
  {
   "cell_type": "markdown",
   "metadata": {},
   "source": [
    "#### Función de Rosenbrock"
   ]
  },
  {
   "cell_type": "code",
   "execution_count": 43,
   "metadata": {},
   "outputs": [],
   "source": [
    "def Rosenbrock(x, a = 1, b = 100):\n",
    "    return (a - x[0])**2 + b * (x[1] - x[0]**2)**2"
   ]
  },
  {
   "cell_type": "markdown",
   "metadata": {},
   "source": [
    "##### Prueba 1\n",
    "$(a,b) = (1, 100)$\n",
    "\n",
    "$x = (0.9, 1.1)$\n",
    "\n",
    "Primero probamos con un valor cercano al verdadero."
   ]
  },
  {
   "cell_type": "markdown",
   "metadata": {},
   "source": [
    "###### Prueba Newton"
   ]
  },
  {
   "cell_type": "code",
   "execution_count": 81,
   "metadata": {},
   "outputs": [
    {
     "data": {
      "text/latex": [
       "$\\displaystyle x: [0.9,1.1]$"
      ],
      "text/plain": [
       "<IPython.core.display.Math object>"
      ]
     },
     "metadata": {},
     "output_type": "display_data"
    },
    {
     "data": {
      "text/latex": [
       "$\\displaystyle f(x): 8.420000000000002$"
      ],
      "text/plain": [
       "<IPython.core.display.Math object>"
      ]
     },
     "metadata": {},
     "output_type": "display_data"
    },
    {
     "data": {
      "text/latex": [
       "$\\displaystyle x_0: [0.9999995130767382,0.9999990261536713]$"
      ],
      "text/plain": [
       "<IPython.core.display.Math object>"
      ]
     },
     "metadata": {},
     "output_type": "display_data"
    },
    {
     "data": {
      "text/latex": [
       "$\\displaystyle f(x_0): 2.3709426290364353e-13$"
      ],
      "text/plain": [
       "<IPython.core.display.Math object>"
      ]
     },
     "metadata": {},
     "output_type": "display_data"
    }
   ],
   "source": [
    "x = np.array([0.9, 1.1])\n",
    "display(Math('x: [{},{}]'.format(x[0],x[1])))\n",
    "f_x = Rosenbrock(x)\n",
    "display(Math('f(x): {}'.format(f_x)))\n",
    "x_aprox = Newton(Rosenbrock, x, 0.1)\n",
    "display(Math('x_0: [{},{}]'.format(x_aprox[0],x_aprox[1])))\n",
    "f_x_aprox = Rosenbrock(x_aprox)\n",
    "display(Math('f(x_0): {}'.format(f_x_aprox)))"
   ]
  },
  {
   "cell_type": "markdown",
   "metadata": {},
   "source": [
    "###### Prueba LSN"
   ]
  },
  {
   "cell_type": "code",
   "execution_count": 206,
   "metadata": {},
   "outputs": [
    {
     "data": {
      "text/latex": [
       "$\\displaystyle x: [0.9,1.1]$"
      ],
      "text/plain": [
       "<IPython.core.display.Math object>"
      ]
     },
     "metadata": {},
     "output_type": "display_data"
    },
    {
     "data": {
      "text/latex": [
       "$\\displaystyle f(x): 8.420000000000002$"
      ],
      "text/plain": [
       "<IPython.core.display.Math object>"
      ]
     },
     "metadata": {},
     "output_type": "display_data"
    },
    {
     "data": {
      "text/latex": [
       "$\\displaystyle x_0: [0.9999999998000261,0.9999999996000521]$"
      ],
      "text/plain": [
       "<IPython.core.display.Math object>"
      ]
     },
     "metadata": {},
     "output_type": "display_data"
    },
    {
     "data": {
      "text/latex": [
       "$\\displaystyle f(x_0): 3.998957120263567e-20$"
      ],
      "text/plain": [
       "<IPython.core.display.Math object>"
      ]
     },
     "metadata": {},
     "output_type": "display_data"
    }
   ],
   "source": [
    "np.set_printoptions(formatter={'float': lambda x: \"{0:0.3f}\".format(x)})\n",
    "\n",
    "x = np.array([0.9, 1.1])\n",
    "display(Math('x: [{},{}]'.format(x[0],x[1])))\n",
    "f_x = Rosenbrock(x)\n",
    "display(Math('f(x): {}'.format(f_x)))\n",
    "x_aprox = LSN(Rosenbrock, x)\n",
    "display(Math('x_0: [{},{}]'.format(x_aprox[0],x_aprox[1])))\n",
    "f_x_aprox = Rosenbrock(x_aprox)\n",
    "display(Math('f(x_0): {}'.format(f_x_aprox)))"
   ]
  },
  {
   "cell_type": "markdown",
   "metadata": {},
   "source": [
    "###### Prueba LSNM"
   ]
  },
  {
   "cell_type": "code",
   "execution_count": 83,
   "metadata": {},
   "outputs": [
    {
     "data": {
      "text/latex": [
       "$\\displaystyle x: [0.9,1.1]$"
      ],
      "text/plain": [
       "<IPython.core.display.Math object>"
      ]
     },
     "metadata": {},
     "output_type": "display_data"
    },
    {
     "data": {
      "text/latex": [
       "$\\displaystyle f(x): 8.420000000000002$"
      ],
      "text/plain": [
       "<IPython.core.display.Math object>"
      ]
     },
     "metadata": {},
     "output_type": "display_data"
    },
    {
     "data": {
      "text/latex": [
       "$\\displaystyle x_0: [1.00000000019911,1.0000000003982272]$"
      ],
      "text/plain": [
       "<IPython.core.display.Math object>"
      ]
     },
     "metadata": {},
     "output_type": "display_data"
    },
    {
     "data": {
      "text/latex": [
       "$\\displaystyle f(x_0): 3.964482174737415e-20$"
      ],
      "text/plain": [
       "<IPython.core.display.Math object>"
      ]
     },
     "metadata": {},
     "output_type": "display_data"
    }
   ],
   "source": [
    "np.set_printoptions(formatter={'float': lambda x: \"{0:0.3f}\".format(x)})\n",
    "\n",
    "x = np.array([0.9, 1.1])\n",
    "display(Math('x: [{},{}]'.format(x[0],x[1])))\n",
    "f_x = Rosenbrock(x)\n",
    "display(Math('f(x): {}'.format(f_x)))\n",
    "x_aprox = LSNM(Rosenbrock, x)\n",
    "display(Math('x_0: [{},{}]'.format(x_aprox[0],x_aprox[1])))\n",
    "f_x_aprox = Rosenbrock(x_aprox)\n",
    "display(Math('f(x_0): {}'.format(f_x_aprox)))"
   ]
  },
  {
   "cell_type": "markdown",
   "metadata": {},
   "source": [
    "###### Prueba BFGS"
   ]
  },
  {
   "cell_type": "code",
   "execution_count": 84,
   "metadata": {},
   "outputs": [
    {
     "data": {
      "text/latex": [
       "$\\displaystyle x: [0.9,1.1]$"
      ],
      "text/plain": [
       "<IPython.core.display.Math object>"
      ]
     },
     "metadata": {},
     "output_type": "display_data"
    },
    {
     "data": {
      "text/latex": [
       "$\\displaystyle f(x): 8.420000000000002$"
      ],
      "text/plain": [
       "<IPython.core.display.Math object>"
      ]
     },
     "metadata": {},
     "output_type": "display_data"
    },
    {
     "data": {
      "text/latex": [
       "$\\displaystyle x_0: [1.0000006621912356,1.000001328237182]$"
      ],
      "text/plain": [
       "<IPython.core.display.Math object>"
      ]
     },
     "metadata": {},
     "output_type": "display_data"
    },
    {
     "data": {
      "text/latex": [
       "$\\displaystyle f(x_0): 4.3998277398191015e-13$"
      ],
      "text/plain": [
       "<IPython.core.display.Math object>"
      ]
     },
     "metadata": {},
     "output_type": "display_data"
    }
   ],
   "source": [
    "x = np.array([0.9, 1.1])\n",
    "display(Math('x: [{},{}]'.format(x[0],x[1])))\n",
    "f_x = Rosenbrock(x)\n",
    "display(Math('f(x): {}'.format(f_x)))\n",
    "x_aprox = BFGS(Rosenbrock, x, np.identity(len(x)))\n",
    "display(Math('x_0: [{},{}]'.format(x_aprox[0],x_aprox[1])))\n",
    "f_x_aprox = Rosenbrock(x_aprox)\n",
    "display(Math('f(x_0): {}'.format(f_x_aprox)))"
   ]
  },
  {
   "cell_type": "markdown",
   "metadata": {},
   "source": [
    "##### Prueba 2\n",
    "$(a,b) = (1, 100)$\n",
    "\n",
    "$(x,y) = (8, -4)$  \n",
    "\n",
    "Utilizamos un vector más alejado del óptimo, en dónde también podemos ver que funcione correctamente el algoritmo de Cholesky con Identidad Múltiple Agregada"
   ]
  },
  {
   "cell_type": "markdown",
   "metadata": {},
   "source": [
    "###### Prueba Newton"
   ]
  },
  {
   "cell_type": "code",
   "execution_count": 86,
   "metadata": {},
   "outputs": [
    {
     "data": {
      "text/latex": [
       "$\\displaystyle x: [8,-4]$"
      ],
      "text/plain": [
       "<IPython.core.display.Math object>"
      ]
     },
     "metadata": {},
     "output_type": "display_data"
    },
    {
     "data": {
      "text/latex": [
       "$\\displaystyle f(x): 462449$"
      ],
      "text/plain": [
       "<IPython.core.display.Math object>"
      ]
     },
     "metadata": {},
     "output_type": "display_data"
    },
    {
     "data": {
      "text/latex": [
       "$\\displaystyle x_0: [1.0000004873379986,1.0000009746761922]$"
      ],
      "text/plain": [
       "<IPython.core.display.Math object>"
      ]
     },
     "metadata": {},
     "output_type": "display_data"
    },
    {
     "data": {
      "text/latex": [
       "$\\displaystyle f(x_0): 2.374983249016144e-13$"
      ],
      "text/plain": [
       "<IPython.core.display.Math object>"
      ]
     },
     "metadata": {},
     "output_type": "display_data"
    }
   ],
   "source": [
    "x = np.array([8, -4])\n",
    "display(Math('x: [{},{}]'.format(x[0],x[1])))\n",
    "f_x = Rosenbrock(x)\n",
    "display(Math('f(x): {}'.format(f_x)))\n",
    "x_aprox = Newton(Rosenbrock, x,0.1)\n",
    "display(Math('x_0: [{},{}]'.format(x_aprox[0],x_aprox[1])))\n",
    "f_x_aprox = Rosenbrock(x_aprox)\n",
    "display(Math('f(x_0): {}'.format(f_x_aprox)))"
   ]
  },
  {
   "cell_type": "markdown",
   "metadata": {},
   "source": [
    "###### Prueba LSN"
   ]
  },
  {
   "cell_type": "code",
   "execution_count": 205,
   "metadata": {},
   "outputs": [
    {
     "data": {
      "text/latex": [
       "$\\displaystyle x: [8,-4]$"
      ],
      "text/plain": [
       "<IPython.core.display.Math object>"
      ]
     },
     "metadata": {},
     "output_type": "display_data"
    },
    {
     "data": {
      "text/latex": [
       "$\\displaystyle f(x): 462449$"
      ],
      "text/plain": [
       "<IPython.core.display.Math object>"
      ]
     },
     "metadata": {},
     "output_type": "display_data"
    },
    {
     "data": {
      "text/latex": [
       "$\\displaystyle x_0: [1.0000000001994616,1.0000000003989258]$"
      ],
      "text/plain": [
       "<IPython.core.display.Math object>"
      ]
     },
     "metadata": {},
     "output_type": "display_data"
    },
    {
     "data": {
      "text/latex": [
       "$\\displaystyle f(x_0): 3.9784913981804145e-20$"
      ],
      "text/plain": [
       "<IPython.core.display.Math object>"
      ]
     },
     "metadata": {},
     "output_type": "display_data"
    }
   ],
   "source": [
    "x = np.array([8, -4])\n",
    "display(Math('x: [{},{}]'.format(x[0],x[1])))\n",
    "f_x = Rosenbrock(x)\n",
    "display(Math('f(x): {}'.format(f_x)))\n",
    "x_aprox = LSN(Rosenbrock, x)\n",
    "display(Math('x_0: [{},{}]'.format(x_aprox[0],x_aprox[1])))\n",
    "f_x_aprox = Rosenbrock(x_aprox)\n",
    "display(Math('f(x_0): {}'.format(f_x_aprox)))"
   ]
  },
  {
   "cell_type": "markdown",
   "metadata": {},
   "source": [
    "###### Prueba LSNM"
   ]
  },
  {
   "cell_type": "code",
   "execution_count": 88,
   "metadata": {},
   "outputs": [
    {
     "data": {
      "text/latex": [
       "$\\displaystyle x: [8,-4]$"
      ],
      "text/plain": [
       "<IPython.core.display.Math object>"
      ]
     },
     "metadata": {},
     "output_type": "display_data"
    },
    {
     "data": {
      "text/latex": [
       "$\\displaystyle f(x): 462449$"
      ],
      "text/plain": [
       "<IPython.core.display.Math object>"
      ]
     },
     "metadata": {},
     "output_type": "display_data"
    },
    {
     "data": {
      "text/latex": [
       "$\\displaystyle x_0: [1.000000000199439,1.00000000039888]$"
      ],
      "text/plain": [
       "<IPython.core.display.Math object>"
      ]
     },
     "metadata": {},
     "output_type": "display_data"
    },
    {
     "data": {
      "text/latex": [
       "$\\displaystyle f(x_0): 3.977587924778679e-20$"
      ],
      "text/plain": [
       "<IPython.core.display.Math object>"
      ]
     },
     "metadata": {},
     "output_type": "display_data"
    }
   ],
   "source": [
    "x = np.array([8, -4])\n",
    "display(Math('x: [{},{}]'.format(x[0],x[1])))\n",
    "f_x = Rosenbrock(x)\n",
    "display(Math('f(x): {}'.format(f_x)))\n",
    "x_aprox = LSNM(Rosenbrock, x)\n",
    "display(Math('x_0: [{},{}]'.format(x_aprox[0],x_aprox[1])))\n",
    "f_x_aprox = Rosenbrock(x_aprox)\n",
    "display(Math('f(x_0): {}'.format(f_x_aprox)))"
   ]
  },
  {
   "cell_type": "markdown",
   "metadata": {},
   "source": [
    "###### Prueba BFGS "
   ]
  },
  {
   "cell_type": "code",
   "execution_count": 89,
   "metadata": {},
   "outputs": [
    {
     "data": {
      "text/latex": [
       "$\\displaystyle x: [8,-4]$"
      ],
      "text/plain": [
       "<IPython.core.display.Math object>"
      ]
     },
     "metadata": {},
     "output_type": "display_data"
    },
    {
     "data": {
      "text/latex": [
       "$\\displaystyle f(x): 462449$"
      ],
      "text/plain": [
       "<IPython.core.display.Math object>"
      ]
     },
     "metadata": {},
     "output_type": "display_data"
    },
    {
     "data": {
      "text/latex": [
       "$\\displaystyle x_0: [0.9999992063869326,0.9999984108499661]$"
      ],
      "text/plain": [
       "<IPython.core.display.Math object>"
      ]
     },
     "metadata": {},
     "output_type": "display_data"
    },
    {
     "data": {
      "text/latex": [
       "$\\displaystyle f(x_0): 6.301920818858245e-13$"
      ],
      "text/plain": [
       "<IPython.core.display.Math object>"
      ]
     },
     "metadata": {},
     "output_type": "display_data"
    }
   ],
   "source": [
    "x = np.array([8, -4])\n",
    "display(Math('x: [{},{}]'.format(x[0],x[1])))\n",
    "f_x = Rosenbrock(x)\n",
    "display(Math('f(x): {}'.format(f_x)))\n",
    "x_aprox = BFGS(Rosenbrock, x, np.identity(len(x)))\n",
    "display(Math('x_0: [{},{}]'.format(x_aprox[0],x_aprox[1])))\n",
    "f_x_aprox = Rosenbrock(x_aprox)\n",
    "display(Math('f(x_0): {}'.format(f_x_aprox)))"
   ]
  },
  {
   "cell_type": "markdown",
   "metadata": {},
   "source": [
    "##### Prueba 3\n",
    "$(a,b) = (2, 5)$\n",
    "\n",
    "$(x,y) = (8, -4)$  \n",
    "\n",
    "Cambiamos el valor de $a$ y $b$"
   ]
  },
  {
   "cell_type": "code",
   "execution_count": 100,
   "metadata": {},
   "outputs": [],
   "source": [
    "def Rosenbrock_2(x, a = 2, b = 5):\n",
    "    return (a - x[0])**2 + b * (x[1] - x[0]**2)**2"
   ]
  },
  {
   "cell_type": "markdown",
   "metadata": {},
   "source": [
    "###### Prueba Newton"
   ]
  },
  {
   "cell_type": "code",
   "execution_count": 101,
   "metadata": {},
   "outputs": [
    {
     "data": {
      "text/latex": [
       "$\\displaystyle x: [8,-4]$"
      ],
      "text/plain": [
       "<IPython.core.display.Math object>"
      ]
     },
     "metadata": {},
     "output_type": "display_data"
    },
    {
     "data": {
      "text/latex": [
       "$\\displaystyle f(x): 23156$"
      ],
      "text/plain": [
       "<IPython.core.display.Math object>"
      ]
     },
     "metadata": {},
     "output_type": "display_data"
    },
    {
     "data": {
      "text/latex": [
       "$\\displaystyle x_0: [2.0000003531418398,4.000001407509871]$"
      ],
      "text/plain": [
       "<IPython.core.display.Math object>"
      ]
     },
     "metadata": {},
     "output_type": "display_data"
    },
    {
     "data": {
      "text/latex": [
       "$\\displaystyle f(x_0): 1.2483705619771369e-13$"
      ],
      "text/plain": [
       "<IPython.core.display.Math object>"
      ]
     },
     "metadata": {},
     "output_type": "display_data"
    }
   ],
   "source": [
    "x = np.array([8, -4])\n",
    "display(Math('x: [{},{}]'.format(x[0],x[1])))\n",
    "f_x = Rosenbrock_2(x)\n",
    "display(Math('f(x): {}'.format(f_x)))\n",
    "x_aprox = Newton(Rosenbrock_2, x,0.1)\n",
    "display(Math('x_0: [{},{}]'.format(x_aprox[0],x_aprox[1])))\n",
    "f_x_aprox = Rosenbrock_2(x_aprox)\n",
    "display(Math('f(x_0): {}'.format(f_x_aprox)))"
   ]
  },
  {
   "cell_type": "markdown",
   "metadata": {},
   "source": [
    "###### Prueba LSN"
   ]
  },
  {
   "cell_type": "code",
   "execution_count": 94,
   "metadata": {},
   "outputs": [
    {
     "data": {
      "text/latex": [
       "$\\displaystyle x: [8,-4]$"
      ],
      "text/plain": [
       "<IPython.core.display.Math object>"
      ]
     },
     "metadata": {},
     "output_type": "display_data"
    },
    {
     "data": {
      "text/latex": [
       "$\\displaystyle f(x): 23156$"
      ],
      "text/plain": [
       "<IPython.core.display.Math object>"
      ]
     },
     "metadata": {},
     "output_type": "display_data"
    },
    {
     "data": {
      "text/latex": [
       "$\\displaystyle x_0: [2.0000000000196025,4.000000000078448]$"
      ],
      "text/plain": [
       "<IPython.core.display.Math object>"
      ]
     },
     "metadata": {},
     "output_type": "display_data"
    },
    {
     "data": {
      "text/latex": [
       "$\\displaystyle f(x_0): 3.8426693850994824e-22$"
      ],
      "text/plain": [
       "<IPython.core.display.Math object>"
      ]
     },
     "metadata": {},
     "output_type": "display_data"
    }
   ],
   "source": [
    "x = np.array([8, -4])\n",
    "display(Math('x: [{},{}]'.format(x[0],x[1])))\n",
    "f_x = Rosenbrock_2(x)\n",
    "display(Math('f(x): {}'.format(f_x)))\n",
    "x_aprox = LSN(Rosenbrock_2, x)\n",
    "display(Math('x_0: [{},{}]'.format(x_aprox[0],x_aprox[1])))\n",
    "f_x_aprox = Rosenbrock_2(x_aprox)\n",
    "display(Math('f(x_0): {}'.format(f_x_aprox)))"
   ]
  },
  {
   "cell_type": "markdown",
   "metadata": {},
   "source": [
    "###### Prueba LSNM"
   ]
  },
  {
   "cell_type": "code",
   "execution_count": 95,
   "metadata": {},
   "outputs": [
    {
     "data": {
      "text/latex": [
       "$\\displaystyle x: [8,-4]$"
      ],
      "text/plain": [
       "<IPython.core.display.Math object>"
      ]
     },
     "metadata": {},
     "output_type": "display_data"
    },
    {
     "data": {
      "text/latex": [
       "$\\displaystyle f(x): 23156$"
      ],
      "text/plain": [
       "<IPython.core.display.Math object>"
      ]
     },
     "metadata": {},
     "output_type": "display_data"
    },
    {
     "data": {
      "text/latex": [
       "$\\displaystyle x_0: [2.000000000019554,4.000000000078249]$"
      ],
      "text/plain": [
       "<IPython.core.display.Math object>"
      ]
     },
     "metadata": {},
     "output_type": "display_data"
    },
    {
     "data": {
      "text/latex": [
       "$\\displaystyle f(x_0): 3.823696379055333e-22$"
      ],
      "text/plain": [
       "<IPython.core.display.Math object>"
      ]
     },
     "metadata": {},
     "output_type": "display_data"
    }
   ],
   "source": [
    "x = np.array([8, -4])\n",
    "display(Math('x: [{},{}]'.format(x[0],x[1])))\n",
    "f_x = Rosenbrock_2(x)\n",
    "display(Math('f(x): {}'.format(f_x)))\n",
    "x_aprox = LSNM(Rosenbrock_2, x)\n",
    "display(Math('x_0: [{},{}]'.format(x_aprox[0],x_aprox[1])))\n",
    "f_x_aprox = Rosenbrock_2(x_aprox)\n",
    "display(Math('f(x_0): {}'.format(f_x_aprox)))"
   ]
  },
  {
   "cell_type": "markdown",
   "metadata": {},
   "source": [
    "##### Prueba BFGS"
   ]
  },
  {
   "cell_type": "code",
   "execution_count": 97,
   "metadata": {},
   "outputs": [
    {
     "data": {
      "text/latex": [
       "$\\displaystyle x: [8,-4]$"
      ],
      "text/plain": [
       "<IPython.core.display.Math object>"
      ]
     },
     "metadata": {},
     "output_type": "display_data"
    },
    {
     "data": {
      "text/latex": [
       "$\\displaystyle f(x): 23156$"
      ],
      "text/plain": [
       "<IPython.core.display.Math object>"
      ]
     },
     "metadata": {},
     "output_type": "display_data"
    },
    {
     "data": {
      "text/latex": [
       "$\\displaystyle x_0: [1.9999984740740286,3.9999938290150983]$"
      ],
      "text/plain": [
       "<IPython.core.display.Math object>"
      ]
     },
     "metadata": {},
     "output_type": "display_data"
    },
    {
     "data": {
      "text/latex": [
       "$\\displaystyle f(x_0): 2.3510853124152164e-12$"
      ],
      "text/plain": [
       "<IPython.core.display.Math object>"
      ]
     },
     "metadata": {},
     "output_type": "display_data"
    }
   ],
   "source": [
    "x = np.array([8, -4])\n",
    "display(Math('x: [{},{}]'.format(x[0],x[1])))\n",
    "f_x = Rosenbrock_2(x)\n",
    "display(Math('f(x): {}'.format(f_x)))\n",
    "x_aprox = BFGS(Rosenbrock_2, x, np.identity(len(x)))\n",
    "display(Math('x_0: [{},{}]'.format(x_aprox[0],x_aprox[1])))\n",
    "f_x_aprox = Rosenbrock_2(x_aprox)\n",
    "display(Math('f(x_0): {}'.format(f_x_aprox)))"
   ]
  },
  {
   "cell_type": "markdown",
   "metadata": {},
   "source": [
    "### Optimización de función de distancia"
   ]
  },
  {
   "cell_type": "code",
   "execution_count": 111,
   "metadata": {},
   "outputs": [],
   "source": [
    "import math\n",
    "import pandas as pd"
   ]
  },
  {
   "cell_type": "markdown",
   "metadata": {},
   "source": [
    "##### Procesamiento de Datos\n",
    "Filtramos los datos por fecha y nos quedamos con solo las variables relevantes"
   ]
  },
  {
   "cell_type": "code",
   "execution_count": 143,
   "metadata": {},
   "outputs": [],
   "source": [
    "data=pd.read_csv('crime_data.csv')\n",
    "#Filtramos por fecha\n",
    "fecha_inicio = '2019-12-25'\n",
    "fecha_fin = '2019-12-25'\n",
    "data = data.loc[((data['date']>=fecha_inicio) & (data['date']<=fecha_fin))]\n",
    "#Nos quedamos con sólo longitud y latitud\n",
    "data = data[{'lat','long'}]\n",
    "#Lo convertimos en un numpy array\n",
    "crimes = data.to_numpy()"
   ]
  },
  {
   "cell_type": "markdown",
   "metadata": {},
   "source": [
    "Creamos un vector de $n$ camaras, en dónde inicialmente estas se encuentran dónde ocurrieron los primeros $n$ crimenes. "
   ]
  },
  {
   "cell_type": "code",
   "execution_count": 144,
   "metadata": {},
   "outputs": [],
   "source": [
    "n = 8 # Número de cameras\n",
    "cameras = crimes[:8].copy()"
   ]
  },
  {
   "cell_type": "markdown",
   "metadata": {},
   "source": [
    "#### Haversine Formula\n",
    "Utilizamos la fórmula de haversine para medir la distancia entre dos puntos geográficos (latitud, longitud)"
   ]
  },
  {
   "cell_type": "code",
   "execution_count": 181,
   "metadata": {},
   "outputs": [],
   "source": [
    "# Regresa la distancia entre dos ountos que se encuentran  en lat y lon\n",
    "def haversine(p1, p2):\n",
    "    # Pasamos de decimales a radianes\n",
    "    p1_lat = math.radians(p1[0]);p1_lon = math.radians(p1[1]);\n",
    "    p2_lat = math.radians(p2[0]);p2_lon = math.radians(p2[1]);\n",
    "    # formula de haversine\n",
    "    h = math.sin((p2_lat-p1_lat)/2)**2 + math.cos(p1_lat) * math.cos(p2_lat) * math.sin((p2_lon-p1_lon)/2)**2\n",
    "    c = 2 * math.asin(math.sqrt(h)) \n",
    "    r = 6371 # Radio de la tierra en km\n",
    "    return c * r"
   ]
  },
  {
   "cell_type": "code",
   "execution_count": 182,
   "metadata": {},
   "outputs": [],
   "source": [
    "def distancia_min(x, crimenes = crimes):\n",
    "    #Suponemos x una función con latitud y longitud\n",
    "    dist = 0\n",
    "    for i in range(len(x)):\n",
    "        for j in range(len(crimenes)):\n",
    "            dist += haversine(x[i], crimenes[j])\n",
    "        for j in range(len(x)):\n",
    "            if(i != j):\n",
    "                dist += 1/(haversine(x[i], x[j]))\n",
    "    return dist "
   ]
  },
  {
   "cell_type": "code",
   "execution_count": 187,
   "metadata": {},
   "outputs": [
    {
     "data": {
      "text/plain": [
       "3637.3671451270766"
      ]
     },
     "execution_count": 187,
     "metadata": {},
     "output_type": "execute_result"
    }
   ],
   "source": [
    "distancia_min(cameras)"
   ]
  },
  {
   "cell_type": "code",
   "execution_count": null,
   "metadata": {},
   "outputs": [],
   "source": []
  }
 ],
 "metadata": {
  "kernelspec": {
   "display_name": "Python 3",
   "language": "python",
   "name": "python3"
  },
  "language_info": {
   "codemirror_mode": {
    "name": "ipython",
    "version": 3
   },
   "file_extension": ".py",
   "mimetype": "text/x-python",
   "name": "python",
   "nbconvert_exporter": "python",
   "pygments_lexer": "ipython3",
   "version": "3.8.3"
  }
 },
 "nbformat": 4,
 "nbformat_minor": 4
}
