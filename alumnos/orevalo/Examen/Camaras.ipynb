{
 "cells": [
  {
   "cell_type": "code",
   "execution_count": 87,
   "metadata": {},
   "outputs": [],
   "source": [
    "import csv\n",
    "import numpy\n",
    "\n",
    "#En este script obtenemos los datos de nuestra función\n",
    "\n",
    "with open('crime.csv', 'r') as file:\n",
    "    reader = csv.reader(file)\n",
    "    n=31057\n",
    "\n",
    "    rows=[]\n",
    "    data=[]\n",
    "    for row in reader: \n",
    "        rows.append(row)\n",
    "\n",
    "for i in range(1,3057):\n",
    "    data.append(numpy.asarray(rows[i][3:],dtype=float))\n",
    "    \n",
    "\n"
   ]
  },
  {
   "cell_type": "code",
   "execution_count": 80,
   "metadata": {},
   "outputs": [],
   "source": [
    "#En el caso del problema, c es nuestras cámaras, data es la lista obtenida en la celda anterior, N=8000, M= 31057\n",
    "\n",
    "def costo_camaras(c,data, delta, sigma, N, M):\n",
    "#Calcula el Costo de posicionar un número N de cámaras para cubrir M crimen. Hay uncosto cuadrático para la distancia \n",
    "#entre una cámara y un crimen. Y también hay un costo inverso a la distancia al cuadrado entre cámaras. Lo que implica\n",
    "#una serie de singularidades para todos los puntos donde dos cámaras son iguales, por lo que esta no puede ser condición \n",
    "#inicial.\n",
    "\n",
    "costo=0\n",
    "\n",
    "#   v-Lista de arrays, que indican la localización de las cámaras,   N arrays\n",
    "#   data-Lista de arrays, que indican la localicación de los crímenes, M arrays\n",
    "#   delta= peso de distancia camaras crimenes\n",
    "#   sigma= peso del inversi de la distancia camara camara\n",
    "    \n",
    "    #Primero el costo de distancia de cámaras a crímenes\n",
    "    for i in range(1:N)\n",
    "        for j in range(1:M)\n",
    "            costo=delta*numpy.linalg.norm(c[i]-data[j])^2\n",
    "   \n",
    "    #Luego el costo de cercanía de las cámaras\n",
    "    for i in range(1:N)\n",
    "        for j in range(1:N)\n",
    "            if i!=j\n",
    "                costo=sigma/numpy.linalg.norm(c[i]-c[j])^(-2)\n",
    "    \n",
    "    #Regresamos finalmente el costo total:\n",
    "    \n",
    "    return costo\n",
    "    "
   ]
  }
 ],
 "metadata": {
  "kernelspec": {
   "display_name": "Python 3",
   "language": "python",
   "name": "python3"
  },
  "language_info": {
   "codemirror_mode": {
    "name": "ipython",
    "version": 3
   },
   "file_extension": ".py",
   "mimetype": "text/x-python",
   "name": "python",
   "nbconvert_exporter": "python",
   "pygments_lexer": "ipython3",
   "version": "3.8.5"
  }
 },
 "nbformat": 4,
 "nbformat_minor": 4
}
