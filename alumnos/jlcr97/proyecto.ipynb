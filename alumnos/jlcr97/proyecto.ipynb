{
 "cells": [
  {
   "cell_type": "markdown",
   "metadata": {},
   "source": [
    "Proyecto (primer entregable)\n",
    "\n",
    "Francisco Velasco Medina 165473 y \n",
    "José Luis Cordero Rodríguez 164860\n",
    "\n",
    "En esta primera parte del proyecto se estudiará e implementará el algoritmo de Búsqueda Lineal de Newton con modificación a la Hessiana. \n"
   ]
  },
  {
   "cell_type": "code",
   "execution_count": 4,
   "metadata": {},
   "outputs": [],
   "source": [
    "#Importar librerías \n",
    "import numpy as np\n",
    "import math as ma\n",
    "import random as rd\n",
    "from numpy import linalg as la\n",
    "from numpy.random import seed \n",
    "from numpy.random import rand"
   ]
  },
  {
   "cell_type": "markdown",
   "metadata": {},
   "source": [
    "Empezamos con el código para calcular el gradiente. El siguiente método devuelve el gradiente\n",
    "de una función tomando como parámetros a la función (regla de correspondencia) y un punto. "
   ]
  },
  {
   "cell_type": "code",
   "execution_count": 5,
   "metadata": {},
   "outputs": [],
   "source": [
    "#Código para caluclar el gradiente\n",
    "#elegimos un error apropiado\n",
    "def grad(f,xo):\n",
    "    n = len(xo)\n",
    "    eps=0.000001\n",
    "    res=np.zeros(n)\n",
    "    for i in range(n):\n",
    "        zer = np.zeros(n)\n",
    "        zer[i] += eps\n",
    "        x1 = xo + zer\n",
    "        res[i] = (f(x1)-f(xo))/eps\n",
    "    return res"
   ]
  },
  {
   "cell_type": "markdown",
   "metadata": {},
   "source": [
    "Se crean tres funciones diferentes, cada una de ellos con una parametrización distinta. Para\n",
    "la primera, a = 1 \n",
    "y b = 100. En la segunda a = 2 y b = 20. Finalmente, en la última, a = 0 y b = 50.  "
   ]
  },
  {
   "cell_type": "code",
   "execution_count": null,
   "metadata": {},
   "outputs": [],
   "source": [
    "#Definimos la función Rosenbrock de forma parametrizada \n",
    "xo=[1,1]\n",
    "def Rosen(a, b):\n",
    "  return lambda x: (a - x[0]) ** 2 + b * (x[1] - x[0] ** 2) ** 2\n",
    "\n",
    "uno_cien = Rosen(1, 100)\n",
    "\n",
    "dos_veinte = Rosen(2, 20)\n",
    "\n",
    "cero_cincuenta = Rosen(0, 50)\n"
   ]
  },
  {
   "cell_type": "code",
   "execution_count": 21,
   "metadata": {},
   "outputs": [
    {
     "data": {
      "text/plain": [
       "array([4.010004e-04, 1.000000e-04])"
      ]
     },
     "execution_count": 21,
     "metadata": {},
     "output_type": "execute_result"
    }
   ],
   "source": [
    "#Calculamos el gradiente de forma anlítica y lo calcula bien \n",
    "grad(uno_cien,xo)"
   ]
  },
  {
   "cell_type": "markdown",
   "metadata": {},
   "source": [
    "En el siguiente chunk está el método que se utiliza para calcular la Hessiana de una función\n",
    "especificada. Para su desarrollo se usaron diferencias finitas. El método toma como argumento\n",
    "una función y un punto dado. "
   ]
  },
  {
   "cell_type": "code",
   "execution_count": 22,
   "metadata": {},
   "outputs": [],
   "source": [
    "#Código que calcula la hessiana\n",
    "#el desarrollo de este método se hará con diferencias finitas \n",
    "def hess(f,xo):\n",
    "    n = len(xo)\n",
    "    eps=0.000001\n",
    "    res=np.zeros((n,n))\n",
    "    for i in range(n):\n",
    "        for j in range(n):\n",
    "            zer = np.zeros(n)\n",
    "            zer2 = np.zeros(n)\n",
    "            zer[i] += eps\n",
    "            zer2[j] += eps\n",
    "            x_e = xo + zer + zer2\n",
    "            x_ei = xo + zer\n",
    "            x_ej = xo + zer2\n",
    "            res[i][j] = (f(x_e)-f(x_ei)-f(x_ej)+f(xo))/(eps**2)\n",
    "    return res"
   ]
  },
  {
   "cell_type": "code",
   "execution_count": 23,
   "metadata": {},
   "outputs": [
    {
     "data": {
      "text/plain": [
       "array([[ 802.00239973, -400.00019995],\n",
       "       [-400.00019995,  199.99999997]])"
      ]
     },
     "execution_count": 23,
     "metadata": {},
     "output_type": "execute_result"
    }
   ],
   "source": [
    "#imprimimos la Hessiana y verificamos que es correcto el cálculo  \n",
    "hess(uno_cien,xo)"
   ]
  },
  {
   "cell_type": "markdown",
   "metadata": {},
   "source": [
    "A continuación construimos el método que verifica que las condiciones de optimalidad se \n",
    "cumplen. "
   ]
  },
  {
   "cell_type": "code",
   "execution_count": 25,
   "metadata": {},
   "outputs": [],
   "source": [
    "def positiva_def(A):\n",
    "    propios, vectores = la.eig(A)\n",
    "    for L in propios:\n",
    "        if L.real <= 0:\n",
    "            return False\n",
    "    return True\n",
    "\n",
    "def grad_nulo(grad,tol):\n",
    "    print(grad)\n",
    "    for x in grad:\n",
    "      if abs(x) > tol:\n",
    "        return False\n",
    "    return True\n",
    "\n",
    "def condiciones_optimalidad(f, xk,tol):\n",
    "    # Código que regresa si el punto xk cumple \n",
    "    # con las condiciones de optimalidad.\n",
    "    # La matriz hessiana debe ser positiva definida, \n",
    "    # en otras palabras sus valores propios deben ser positivos.\n",
    "    return positiva_def(hess(f,xk)) and grad_nulo(grad(f,xk),tol)"
   ]
  },
  {
   "cell_type": "code",
   "execution_count": 27,
   "metadata": {},
   "outputs": [
    {
     "name": "stdout",
     "output_type": "stream",
     "text": [
      "[4.010004e-04 1.000000e-04]\n"
     ]
    },
    {
     "data": {
      "text/plain": [
       "True"
      ]
     },
     "execution_count": 27,
     "metadata": {},
     "output_type": "execute_result"
    }
   ],
   "source": [
    "#permitimos que el usuario ingrese un nivel de tolerancia \n",
    "condiciones_optimalidad(uno_cien,xo,.001)"
   ]
  },
  {
   "cell_type": "code",
   "execution_count": 28,
   "metadata": {},
   "outputs": [],
   "source": [
    "# definir función mk \n",
    "def mk(f,xo,p):\n",
    "    H = hess(f,xo)\n",
    "    G = grad(f,xo)\n",
    "    pt = np.transpose(p)\n",
    "    return f(xo) + np.dot(pt,G) + 0.5 * np.dot(np.dot(pt,H),pt)"
   ]
  },
  {
   "cell_type": "code",
   "execution_count": 35,
   "metadata": {
    "scrolled": true
   },
   "outputs": [
    {
     "data": {
      "text/plain": [
       "0.00010608999340135658"
      ]
     },
     "execution_count": 35,
     "metadata": {},
     "output_type": "execute_result"
    }
   ],
   "source": [
    "#probamos con un punto la función\n",
    "p=[.01,.02]\n",
    "mk(uno_cien,xo,p)"
   ]
  },
  {
   "cell_type": "code",
   "execution_count": 36,
   "metadata": {},
   "outputs": [],
   "source": [
    "#Algoritmo de búsqueda de paso (BacksS)\n",
    "def BackS(a,f,xk,pk):\n",
    "    rd.seed(123)\n",
    "    c = rd.uniform(0,1)\n",
    "    while f(xk + a * pk) > f(xk) + c * a * np.dot(grad(f,xk),pk):\n",
    "        rho = rd.uniform(0,1)\n",
    "        a = rho*a\n",
    "    return a "
   ]
  },
  {
   "cell_type": "code",
   "execution_count": 51,
   "metadata": {},
   "outputs": [
    {
     "data": {
      "text/plain": [
       "0.08718667752263232"
      ]
     },
     "execution_count": 51,
     "metadata": {},
     "output_type": "execute_result"
    }
   ],
   "source": [
    "BackS(1,uno_cien,np.array([1.2,1.2]),np.array([-1,-2]))"
   ]
  },
  {
   "cell_type": "code",
   "execution_count": 38,
   "metadata": {},
   "outputs": [],
   "source": [
    "#Algoritmo Cholesky con mútilplo de la identidad\n",
    "#np.transpose\n",
    "def Cholesky(A,b,k):\n",
    "    t = 0\n",
    "    if min(np.diag(A)) > 0:\n",
    "         t = 0\n",
    "    else: \n",
    "        t = -min(np.diag(A)) + b\n",
    "        \n",
    "    for j in range(k):\n",
    "        try: \n",
    "            L = la.cholesky(A + t*np.identity(len(A)))\n",
    "        except:\n",
    "            t = max(2*t,b)\n",
    "        else:\n",
    "            break\n",
    "    return np.dot(L,L)\n",
    "    "
   ]
  },
  {
   "cell_type": "code",
   "execution_count": 39,
   "metadata": {},
   "outputs": [],
   "source": [
    "#Algoritmo de búsqueda lineal de Newton Modificado\n",
    "def Newton_Mod(xk,f,n,k,b):\n",
    "    for i in range(n):\n",
    "        Bk = hess(f,xk)\n",
    "        try:\n",
    "            L = la.cholesky(Bk)\n",
    "        except:\n",
    "            Bk = Cholesky(Bk,b,k)\n",
    "        pk = np.dot(la.inv(Bk),-1 * grad(f,xk))\n",
    "        xk = xk + BackS(1,f,xk,pk)* pk\n",
    "    return xk\n",
    "        "
   ]
  },
  {
   "cell_type": "markdown",
   "metadata": {},
   "source": [
    "Para probar que nuestro código funcione, intentamos con las tres funciones creadas y un punto\n",
    "inicial. Notemos que la función Rosenrbock estándar, es decir, de parámetros 1 y 100 \n",
    "respectivamente tiene un mínimo global en (1,1). Depués de varias iteraciones (1000), el\n",
    "algoritmo logra aproximarse al punto con bastante precisión. Lo mismo sucede con los otros\n",
    "ejemplos. "
   ]
  },
  {
   "cell_type": "code",
   "execution_count": 60,
   "metadata": {},
   "outputs": [
    {
     "name": "stdout",
     "output_type": "stream",
     "text": [
      "El punto que minimiza (alcanzado por el algoritmo) es:\n",
      "(x,y) =  ('1.000', '0.999')\n"
     ]
    }
   ],
   "source": [
    "print(\"El punto que minimiza (alcanzado por el algoritmo) es:\")\n",
    "(x,y)=Newton_Mod([-1.2,1.2],uno_cien,1000,1000,1)\n",
    "print(\"(x,y) = \", ('%0.3f' % x,'%0.3f' % y ))"
   ]
  },
  {
   "cell_type": "code",
   "execution_count": 61,
   "metadata": {},
   "outputs": [
    {
     "name": "stdout",
     "output_type": "stream",
     "text": [
      "El punto que minimiza (alcanzado por el algoritmo) es:\n",
      "(x,y) =  ('2.000', '3.999')\n"
     ]
    }
   ],
   "source": [
    "print(\"El punto que minimiza (alcanzado por el algoritmo) es:\")\n",
    "(x,y)=Newton_Mod([1.2,1.2],dos_veinte,1000,1000,1)\n",
    "print(\"(x,y) = \", ('%0.3f' % x,'%0.3f' % y ))"
   ]
  },
  {
   "cell_type": "code",
   "execution_count": 62,
   "metadata": {},
   "outputs": [
    {
     "name": "stdout",
     "output_type": "stream",
     "text": [
      "El punto que minimiza (alcanzado por el algoritmo) es:\n",
      "(x,y) =  ('-0.000', '-0.000')\n"
     ]
    }
   ],
   "source": [
    "print(\"El punto que minimiza (alcanzado por el algoritmo) es:\")\n",
    "(x,y)=Newton_Mod([1.2,1.2],cero_cincuenta,1000,1000,1)\n",
    "print(\"(x,y) = \", ('%0.3f' % x,'%0.3f' % y ))"
   ]
  },
  {
   "cell_type": "markdown",
   "metadata": {},
   "source": [
    "Se crean tres funciones cuyos parámetros se calculan de forma aleatoria. "
   ]
  },
  {
   "cell_type": "code",
   "execution_count": 47,
   "metadata": {},
   "outputs": [],
   "source": [
    "seed(1)\n",
    "values=rand(6)\n",
    "azar1=Rosen(100*values[0],100*values[1])\n",
    "azar2=Rosen(-50*values[2],10*values[3]+5)\n",
    "azar3=Rosen(values[4]+6,50*values[5])"
   ]
  },
  {
   "cell_type": "code",
   "execution_count": 57,
   "metadata": {},
   "outputs": [
    {
     "name": "stdout",
     "output_type": "stream",
     "text": [
      "El punto que minimiza (alcanzado por el algoritmo) es:\n",
      "(x,y) =  ('12.725', '161.944')\n"
     ]
    }
   ],
   "source": [
    "print(\"El punto que minimiza (alcanzado por el algoritmo) es:\")\n",
    "(x,y)=Newton_Mod([1.2,1.2],azar1,1000,1000,1)\n",
    "print(\"(x,y) = \", ('%0.3f' % x,'%0.3f' % y ))"
   ]
  },
  {
   "cell_type": "code",
   "execution_count": 58,
   "metadata": {},
   "outputs": [
    {
     "name": "stdout",
     "output_type": "stream",
     "text": [
      "El punto que minimiza (alcanzado por el algoritmo) es:\n",
      "(x,y) =  ('-0.006', '0.000')\n"
     ]
    }
   ],
   "source": [
    "print(\"El punto que minimiza (alcanzado por el algoritmo) es:\")\n",
    "(x,y)=Newton_Mod([1.2,1.2],azar2,1000,1000,1)\n",
    "print(\"(x,y) = \", ('%0.3f' % x,'%0.3f' % y ))"
   ]
  },
  {
   "cell_type": "code",
   "execution_count": 59,
   "metadata": {},
   "outputs": [
    {
     "name": "stdout",
     "output_type": "stream",
     "text": [
      "El punto que minimiza (alcanzado por el algoritmo) es:\n",
      "(x,y) =  ('6.146', '37.778')\n"
     ]
    }
   ],
   "source": [
    "print(\"El punto que minimiza (alcanzado por el algoritmo) es:\")\n",
    "(x,y)=Newton_Mod([1.2,1.2],azar3,1000,1000,1)\n",
    "print(\"(x,y) = \", ('%0.3f' % x,'%0.3f' % y ))"
   ]
  }
 ],
 "metadata": {
  "kernelspec": {
   "display_name": "Python 3",
   "language": "python",
   "name": "python3"
  },
  "language_info": {
   "codemirror_mode": {
    "name": "ipython",
    "version": 3
   },
   "file_extension": ".py",
   "mimetype": "text/x-python",
   "name": "python",
   "nbconvert_exporter": "python",
   "pygments_lexer": "ipython3",
   "version": "3.8.5"
  }
 },
 "nbformat": 4,
 "nbformat_minor": 4
}
