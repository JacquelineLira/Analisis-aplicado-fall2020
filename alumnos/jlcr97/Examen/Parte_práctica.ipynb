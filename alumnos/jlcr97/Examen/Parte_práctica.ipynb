{
 "cells": [
  {
   "cell_type": "code",
   "execution_count": 1,
   "metadata": {},
   "outputs": [],
   "source": [
    "import pandas as pd"
   ]
  },
  {
   "cell_type": "markdown",
   "metadata": {},
   "source": [
    "En este notebook crearemos la función que nos servirá para poder resolver el problema de colocación de cámaras. Para poder programar la función importamos la librería pandas para poder la información. De la hoja con datos, extraemos las dos columnas que nos interesan: la que corresponda a la longitud y la que corresponde a la latitud. "
   ]
  },
  {
   "cell_type": "code",
   "execution_count": 43,
   "metadata": {},
   "outputs": [],
   "source": [
    "#Leemos los datos con la estos comandos y extraemos la información que necesitamos\n",
    "data = pd.read_csv('crime_data.csv')\n",
    "data.head()\n",
    "df=pd.DataFrame(data)\n",
    "latitud=df[df.columns[3]]\n",
    "longitud=df[df.columns[4]]"
   ]
  },
  {
   "cell_type": "code",
   "execution_count": 46,
   "metadata": {},
   "outputs": [],
   "source": [
    "#Aquí definimos la función \n",
    "def f(xo): \n",
    "    suma=0\n",
    "    for i in range(2):\n",
    "        for j in range(len(latitud)):\n",
    "            suma = suma + (latitud[j]-xo[i][0])**2 + (longitud[j]-xo[i][1])**2\n",
    "    return suma \n",
    "            "
   ]
  },
  {
   "cell_type": "code",
   "execution_count": 47,
   "metadata": {},
   "outputs": [
    {
     "data": {
      "text/plain": [
       "677437881.73389"
      ]
     },
     "execution_count": 47,
     "metadata": {},
     "output_type": "execute_result"
    }
   ],
   "source": [
    "#Probamos la función con un valor específico, colocando únicamente dos cámaras y en esas posiciones \n",
    "f([[2,3],[4,5]])"
   ]
  },
  {
   "cell_type": "code",
   "execution_count": null,
   "metadata": {},
   "outputs": [],
   "source": []
  }
 ],
 "metadata": {
  "kernelspec": {
   "display_name": "Python 3",
   "language": "python",
   "name": "python3"
  },
  "language_info": {
   "codemirror_mode": {
    "name": "ipython",
    "version": 3
   },
   "file_extension": ".py",
   "mimetype": "text/x-python",
   "name": "python",
   "nbconvert_exporter": "python",
   "pygments_lexer": "ipython3",
   "version": "3.8.5"
  }
 },
 "nbformat": 4,
 "nbformat_minor": 4
}
