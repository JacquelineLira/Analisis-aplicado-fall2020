{
 "cells": [
  {
   "cell_type": "code",
   "execution_count": 9,
   "metadata": {},
   "outputs": [],
   "source": [
    "def grad(f,xk,epsilon=1.e-5,*args):\n",
    "    f0 = f(*((xk,)+args))\n",
    "    grad = numpy.zeros((len(xk),), float)\n",
    "    ei = numpy.zeros((len(xk),), float)\n",
    "    for k in range(len(xk)):\n",
    "        ei[k] = epsilon\n",
    "        grad[k] = (f(*((xk+ei,)+args)) - f0)/epsilon\n",
    "        ei[k] = 0.0\n",
    "    return grad"
   ]
  },
  {
   "cell_type": "code",
   "execution_count": 18,
   "metadata": {},
   "outputs": [],
   "source": [
    "def hessiana(f,xk,epsilon=1.e-5):\n",
    "    f1 = scipy.optimize.approx_fprime(xk,f,epsilon=epsilon) \n",
    "    n = xk.shape[0]\n",
    "    hessian = np.zeros ((n,n))\n",
    "    xx = xk\n",
    "    for j in range(n):\n",
    "        xx0 = xx[j]\n",
    "        xx[j] = xx0 + epsilon\n",
    "        f2 = scipy.optimize.approx_fprime(xx,f,epsilon=epsilon) \n",
    "        hessian[:,j] = (f2-f1)/epsilon \n",
    "        xx[j] = xx0       \n",
    "    return hessian"
   ]
  },
  {
   "cell_type": "code",
   "execution_count": 19,
   "metadata": {},
   "outputs": [],
   "source": [
    "def condiciones_iniciales(f,xk,epsilon=1.e-5):\n",
    "    if grad==0 and f(xk)<=f(xk+epsilon):\n",
    "        print (TRUE) "
   ]
  },
  {
   "cell_type": "code",
   "execution_count": 20,
   "metadata": {},
   "outputs": [],
   "source": [
    "import numpy\n",
    "def mk(xk,p,f):\n",
    "    H=hessiana(f,xk,epsilon=1.e-5)\n",
    "    G=grad(f,xk,epsilon=1.e-5,*args)\n",
    "    return f(xk)+p.T*G+.5*p.T*H*p"
   ]
  },
  {
   "cell_type": "code",
   "execution_count": null,
   "metadata": {},
   "outputs": [],
   "source": []
  }
 ],
 "metadata": {
  "kernelspec": {
   "display_name": "Python 3",
   "language": "python",
   "name": "python3"
  },
  "language_info": {
   "codemirror_mode": {
    "name": "ipython",
    "version": 3
   },
   "file_extension": ".py",
   "mimetype": "text/x-python",
   "name": "python",
   "nbconvert_exporter": "python",
   "pygments_lexer": "ipython3",
   "version": "3.8.5"
  }
 },
 "nbformat": 4,
 "nbformat_minor": 4
}
