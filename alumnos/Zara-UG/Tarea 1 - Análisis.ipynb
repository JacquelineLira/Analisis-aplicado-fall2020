{
 "cells": [
  {
   "cell_type": "code",
   "execution_count": 36,
   "metadata": {},
   "outputs": [],
   "source": [
    "import numpy as np\n",
    "import matplotlib.pyplot as plt\n",
    "import scipy.linalg as la"
   ]
  },
  {
   "cell_type": "code",
   "execution_count": 3,
   "metadata": {},
   "outputs": [],
   "source": [
    "def gradiente(f,xk):\n",
    "    # Código que calcula el gradiente de la \n",
    "    # función f en el punto xk. \n",
    "    n = xk.size\n",
    "    h = np.float64(1e-4)\n",
    "    resp = np.zeros(n)\n",
    "    for i in range(n):\n",
    "        aux = np.zeros(n)\n",
    "        aux[i] = h\n",
    "        resp[i] = (f(xk + aux)-f(xk))/h\n",
    "    return resp"
   ]
  },
  {
   "cell_type": "code",
   "execution_count": 17,
   "metadata": {},
   "outputs": [],
   "source": [
    "def f(xk):\n",
    "    return sum(xk**2 + 2*xk - 5)\n"
   ]
  },
  {
   "cell_type": "code",
   "execution_count": 18,
   "metadata": {},
   "outputs": [
    {
     "data": {
      "text/plain": [
       "55"
      ]
     },
     "execution_count": 18,
     "metadata": {},
     "output_type": "execute_result"
    }
   ],
   "source": [
    "xk = np.array([4,2,5,2])\n",
    "f(xk)"
   ]
  },
  {
   "cell_type": "code",
   "execution_count": 19,
   "metadata": {},
   "outputs": [],
   "source": [
    "gradiente(f,xk)\n"
   ]
  },
  {
   "cell_type": "code",
   "execution_count": 35,
   "metadata": {},
   "outputs": [],
   "source": [
    "def hessiana(f,xk):\n",
    "    # Código que calcula la hessiana\n",
    "    n = xk.size\n",
    "    h = np.float64(1e-4)\n",
    "    hess = np.zeros((n,n))\n",
    "    for i in range(n): #renglones\n",
    "        for j in range(i+1): #columnas\n",
    "            if i == j:\n",
    "                aux = np.zeros(n)\n",
    "                aux[i] = h\n",
    "                hess[i][j] = (f(xk - aux)-2*f(xk)+f(xk + aux))/h**2\n",
    "            else:\n",
    "                aux1 = np.zeros(n)\n",
    "                aux2 = np.zeros(n)\n",
    "                aux1[i] = h\n",
    "                aux2[j] = h\n",
    "                hess[i,j] = (f(xk + aux1 + aux2)-f(xk + aux1)-f(xk + aux2)+f(xk))/h**2\n",
    "                hess[j,i] = hess[i,j]   \n",
    "    return hess   "
   ]
  },
  {
   "cell_type": "code",
   "execution_count": 31,
   "metadata": {},
   "outputs": [
    {
     "data": {
      "text/plain": [
       "array([[2.00000008, 0.        ],\n",
       "       [0.        , 1.99999999]])"
      ]
     },
     "execution_count": 31,
     "metadata": {},
     "output_type": "execute_result"
    }
   ],
   "source": [
    "hessiana(f,xk)"
   ]
  },
  {
   "cell_type": "code",
   "execution_count": 32,
   "metadata": {},
   "outputs": [],
   "source": [
    "def g(x):\n",
    "    return 10*(x[1]-x[0]**2)**2 + (1-x[0])**2\n",
    "xk = np.array([0,1])"
   ]
  },
  {
   "cell_type": "code",
   "execution_count": 33,
   "metadata": {},
   "outputs": [
    {
     "data": {
      "text/plain": [
       "array([-2.0019, 20.001 ])"
      ]
     },
     "execution_count": 33,
     "metadata": {},
     "output_type": "execute_result"
    }
   ],
   "source": [
    "gradiente(g,xk)"
   ]
  },
  {
   "cell_type": "code",
   "execution_count": 37,
   "metadata": {},
   "outputs": [],
   "source": [
    "hessiana(g,xk)"
   ]
  },
  {
   "cell_type": "code",
   "execution_count": null,
   "metadata": {},
   "outputs": [],
   "source": [
    "def condiciones_optimalidad(f,xk): #Booleano\n",
    "    # Código que regresa si el punto xk cumple \n",
    "    # con las condiciones de optimalidad\n",
    "    n = xk.size\n",
    "    h = np.float64(1e-4)\n",
    "    resp = False\n",
    "    grad = gradiente(f,xk)\n",
    "    hess = hessiana(f,xk)\n",
    "    if all(abs(grad) < h):\n",
    "        if all(la.eig(A)[0] > 0):\n",
    "            resp = True\n",
    "    \n",
    "    return resp"
   ]
  },
  {
   "cell_type": "code",
   "execution_count": 86,
   "metadata": {},
   "outputs": [],
   "source": [
    "def mk(f,xk,p):\n",
    "    # Código que genera la función de aproximación\n",
    "    # mk que vimos en clase para el algoritmo de \n",
    "    # Región de confianza\n",
    "    grad = gradiente(f,xk)\n",
    "    hess = hessiana(f,xk)\n",
    "    return f(xk) + np.transpose(p)@grad + (np.transpose(p)@hess@p)/2"
   ]
  }
 ],
 "metadata": {
  "kernelspec": {
   "display_name": "Python 3",
   "language": "python",
   "name": "python3"
  },
  "language_info": {
   "codemirror_mode": {
    "name": "ipython",
    "version": 3
   },
   "file_extension": ".py",
   "mimetype": "text/x-python",
   "name": "python",
   "nbconvert_exporter": "python",
   "pygments_lexer": "ipython3",
   "version": "3.8.3"
  }
 },
 "nbformat": 4,
 "nbformat_minor": 4
}
