{
 "cells": [
  {
   "cell_type": "code",
   "execution_count": 2,
   "metadata": {},
   "outputs": [],
   "source": [
    "import numpy as np\n",
    "import util_aa as util"
   ]
  },
  {
   "cell_type": "markdown",
   "metadata": {},
   "source": [
    "El archivo util_aa(util Análisis aplicado) tiene las funciones de la tarea 1. Primero defino la función de Rosenbrock tomada de wikipedia, tiene 2 parámetros, (a,b) el mínimo de la función se encuentra en (a,a^2). Nótese que  el Dominio es R2."
   ]
  },
  {
   "cell_type": "code",
   "execution_count": 45,
   "metadata": {},
   "outputs": [],
   "source": [
    "def rosenbrock(x, a = 1, b = 100):\n",
    "    # x pertenece a R2\n",
    "    return (a - x[0])**2 + b*(x[1] - x[0]**2)**2;\n"
   ]
  },
  {
   "cell_type": "markdown",
   "metadata": {},
   "source": [
    "Ahora hacemmos el algoritmo 3.1 del nocedal"
   ]
  },
  {
   "cell_type": "code",
   "execution_count": 46,
   "metadata": {},
   "outputs": [],
   "source": [
    "def backtracking_line_search(f, xk, p, c = .001, ro = .5):\n",
    "    alpha = 1;\n",
    "    f_k = f(xk)\n",
    "    gr = util.gradiente(f,xk)\n",
    "    while(f(xk + alpha*p) > f_k + c*alpha*gr.dot(p)):\n",
    "        alpha*= ro;\n",
    "    return alpha"
   ]
  },
  {
   "cell_type": "markdown",
   "metadata": {},
   "source": [
    "La siguiente función será útil para el método de line search de Newton. Lo que hace es forzar que los eigenvalores de la \n",
    "hessiana sean positivos, es decir, la hace positiva definida. Lo hace sumándole una identidad multiplicada por un escalar\n",
    "que crece exponencialmente base 2. Por lo tanto, la complejidad de este algoritmo es log base dos de n. Donde n es el eigenvalor\n",
    "más grande en valor absoluto. Éste método fue sugerido por el profesor Miguel Ángel en una asesoría después de clase."
   ]
  },
  {
   "cell_type": "markdown",
   "metadata": {},
   "source": [
    "def make_pos_def(H):\n",
    "    n = H.shape[0];\n",
    "    Id = np.identity(n)\n",
    "    t = .0001;\n",
    "    while(not util.is_pos_def(H)):\n",
    "        H = H + t*Id\n",
    "        t *= 2\n",
    "    return H"
   ]
  },
  {
   "cell_type": "markdown",
   "metadata": {},
   "source": [
    "Ahora sí, haciendo uso de las dos funciones anteriores, el siguiente metodo es el line search de Newton. Algoritmo 3.2 del Nocedal"
   ]
  },
  {
   "cell_type": "code",
   "execution_count": 60,
   "metadata": {},
   "outputs": [],
   "source": [
    "def line_search_newton(f, x, n=1000):\n",
    "    eps = 0.0001\n",
    "    n = 1000\n",
    "    for i in range(n):\n",
    "        B = make_pos_def(util.hessiana(f,x))\n",
    "        gr = util.gradiente(f,x)\n",
    "        p = np.linalg.solve(B, -1*gr)\n",
    "        \n",
    "        alpha = backtracking_line_search(f,x,p)\n",
    "        x += alpha*p\n",
    "    return x"
   ]
  },
  {
   "cell_type": "markdown",
   "metadata": {},
   "source": [
    "Ahora las probaré con dos puntos iniciales elegidos arbitrariamente, pero sin ninguna felonía."
   ]
  },
  {
   "cell_type": "code",
   "execution_count": 71,
   "metadata": {},
   "outputs": [],
   "source": [
    "x1 = np.array([22.0,4.0])\n",
    "x2 = np.array([4.0,.5])"
   ]
  },
  {
   "cell_type": "markdown",
   "metadata": {},
   "source": [
    "Vamos a probar el algoritmo con la función de Rosenbrock, con 1000 iteraciones. Sabemos que el minimo global es\n",
    "(a, a^2), en este caso es (1,1)"
   ]
  },
  {
   "cell_type": "code",
   "execution_count": 72,
   "metadata": {},
   "outputs": [
    {
     "data": {
      "text/plain": [
       "array([0.99780986, 0.99511786])"
      ]
     },
     "execution_count": 72,
     "metadata": {},
     "output_type": "execute_result"
    }
   ],
   "source": [
    "line_search_newton(rosenbrock,x1)"
   ]
  },
  {
   "cell_type": "markdown",
   "metadata": {},
   "source": [
    "Se acerca mucho, tal y como queríamos, veamos con más iteraciones"
   ]
  },
  {
   "cell_type": "code",
   "execution_count": 73,
   "metadata": {},
   "outputs": [
    {
     "data": {
      "text/plain": [
       "array([0.99780986, 0.99511786])"
      ]
     },
     "execution_count": 73,
     "metadata": {},
     "output_type": "execute_result"
    }
   ],
   "source": [
    "line_search_newton(rosenbrock,x1,100000)"
   ]
  },
  {
   "cell_type": "markdown",
   "metadata": {},
   "source": [
    "No está cambiando, por lo tanto podemos concluir que el error no se debe al número de iteraciones, si no a la epsilon definida en casi todos los métodos. Lógicamente haciendola más chica el resultado mejorará. Sin embargo, el tiempo de procesamiento aumentará. Por el momento el resultado me parece relativamente bueno, lo dejaré así."
   ]
  },
  {
   "cell_type": "markdown",
   "metadata": {},
   "source": [
    "Ahora probamos con el otro punto. Para asegurarnos que el algoritmo funciona."
   ]
  },
  {
   "cell_type": "code",
   "execution_count": 74,
   "metadata": {},
   "outputs": [
    {
     "data": {
      "text/plain": [
       "array([0.98990489, 0.97985641])"
      ]
     },
     "execution_count": 74,
     "metadata": {},
     "output_type": "execute_result"
    }
   ],
   "source": [
    "line_search_newton(rosenbrock,x2)"
   ]
  },
  {
   "cell_type": "markdown",
   "metadata": {},
   "source": [
    "Probaré con (a,b) = (2,100), debería de converger a (2,4)"
   ]
  },
  {
   "cell_type": "code",
   "execution_count": 66,
   "metadata": {},
   "outputs": [],
   "source": [
    "def rosenbrock(x, a = 2, b = 100):\n",
    "    # x pertenece a R2\n",
    "    return (a - x[0])**2 + b*(x[1] - x[0]**2)**2;"
   ]
  },
  {
   "cell_type": "code",
   "execution_count": 67,
   "metadata": {},
   "outputs": [
    {
     "data": {
      "text/plain": [
       "array([1.95717723, 3.82771995])"
      ]
     },
     "execution_count": 67,
     "metadata": {},
     "output_type": "execute_result"
    }
   ],
   "source": [
    "line_search_newton(rosenbrock,x1)"
   ]
  },
  {
   "cell_type": "markdown",
   "metadata": {},
   "source": [
    "Otra vez vemos muy buenos resultados, tal y como esperabamos. Por último probaré con (a,b) = (1,35) igual debería converger a (1,1)"
   ]
  },
  {
   "cell_type": "code",
   "execution_count": 68,
   "metadata": {},
   "outputs": [],
   "source": [
    "def rosenbrock(x1, a = 1, b = 35):\n",
    "    # x pertenece a R2\n",
    "    return (a - x[0])**2 + b*(x[1] - x[0]**2)**2;"
   ]
  },
  {
   "cell_type": "code",
   "execution_count": 69,
   "metadata": {},
   "outputs": [
    {
     "data": {
      "text/plain": [
       "array([0.99203601, 0.98349739])"
      ]
     },
     "execution_count": 69,
     "metadata": {},
     "output_type": "execute_result"
    }
   ],
   "source": [
    "line_search_newton(rosenbrock,x1)"
   ]
  },
  {
   "cell_type": "markdown",
   "metadata": {},
   "source": [
    "Ésta vez los resultados son aún mejores que la vez pasada. "
   ]
  }
 ],
 "metadata": {
  "kernelspec": {
   "display_name": "Python 3",
   "language": "python",
   "name": "python3"
  },
  "language_info": {
   "codemirror_mode": {
    "name": "ipython",
    "version": 3
   },
   "file_extension": ".py",
   "mimetype": "text/x-python",
   "name": "python",
   "nbconvert_exporter": "python",
   "pygments_lexer": "ipython3",
   "version": "3.8.3"
  }
 },
 "nbformat": 4,
 "nbformat_minor": 4
}
