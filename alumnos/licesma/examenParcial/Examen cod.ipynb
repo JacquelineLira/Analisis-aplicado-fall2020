{
 "cells": [
  {
   "cell_type": "code",
   "execution_count": 2,
   "metadata": {},
   "outputs": [],
   "source": [
    "import pandas as pd\n",
    "import numpy as np"
   ]
  },
  {
   "cell_type": "markdown",
   "metadata": {},
   "source": [
    "voy a hacer 8000 arreglos, cada arreglo va a tener los crímenes de la zona correspondiente, como se indicó en el pdf"
   ]
  },
  {
   "cell_type": "code",
   "execution_count": 3,
   "metadata": {},
   "outputs": [],
   "source": [
    "crime= pd.read_csv(\"crime_data.csv\")"
   ]
  },
  {
   "cell_type": "code",
   "execution_count": 4,
   "metadata": {},
   "outputs": [
    {
     "data": {
      "text/html": [
       "<div>\n",
       "<style scoped>\n",
       "    .dataframe tbody tr th:only-of-type {\n",
       "        vertical-align: middle;\n",
       "    }\n",
       "\n",
       "    .dataframe tbody tr th {\n",
       "        vertical-align: top;\n",
       "    }\n",
       "\n",
       "    .dataframe thead th {\n",
       "        text-align: right;\n",
       "    }\n",
       "</style>\n",
       "<table border=\"1\" class=\"dataframe\">\n",
       "  <thead>\n",
       "    <tr style=\"text-align: right;\">\n",
       "      <th></th>\n",
       "      <th>crime</th>\n",
       "      <th>date</th>\n",
       "      <th>hour</th>\n",
       "      <th>lat</th>\n",
       "      <th>long</th>\n",
       "    </tr>\n",
       "  </thead>\n",
       "  <tbody>\n",
       "    <tr>\n",
       "      <th>0</th>\n",
       "      <td>VIOLACION</td>\n",
       "      <td>2020-09-30</td>\n",
       "      <td>07:20</td>\n",
       "      <td>19.318714</td>\n",
       "      <td>-99.254418</td>\n",
       "    </tr>\n",
       "    <tr>\n",
       "      <th>1</th>\n",
       "      <td>VIOLACION</td>\n",
       "      <td>2020-09-29</td>\n",
       "      <td>22:30</td>\n",
       "      <td>19.378762</td>\n",
       "      <td>-99.205488</td>\n",
       "    </tr>\n",
       "    <tr>\n",
       "      <th>2</th>\n",
       "      <td>VIOLACION</td>\n",
       "      <td>2020-09-29</td>\n",
       "      <td>22:00</td>\n",
       "      <td>19.347971</td>\n",
       "      <td>-99.030162</td>\n",
       "    </tr>\n",
       "    <tr>\n",
       "      <th>3</th>\n",
       "      <td>VIOLACION</td>\n",
       "      <td>2020-09-29</td>\n",
       "      <td>23:30</td>\n",
       "      <td>19.557311</td>\n",
       "      <td>-99.134166</td>\n",
       "    </tr>\n",
       "    <tr>\n",
       "      <th>4</th>\n",
       "      <td>VIOLACION</td>\n",
       "      <td>2020-09-27</td>\n",
       "      <td>00:00</td>\n",
       "      <td>19.342125</td>\n",
       "      <td>-99.124280</td>\n",
       "    </tr>\n",
       "  </tbody>\n",
       "</table>\n",
       "</div>"
      ],
      "text/plain": [
       "       crime        date   hour        lat       long\n",
       "0  VIOLACION  2020-09-30  07:20  19.318714 -99.254418\n",
       "1  VIOLACION  2020-09-29  22:30  19.378762 -99.205488\n",
       "2  VIOLACION  2020-09-29  22:00  19.347971 -99.030162\n",
       "3  VIOLACION  2020-09-29  23:30  19.557311 -99.134166\n",
       "4  VIOLACION  2020-09-27  00:00  19.342125 -99.124280"
      ]
     },
     "execution_count": 4,
     "metadata": {},
     "output_type": "execute_result"
    }
   ],
   "source": [
    "crime.head()"
   ]
  },
  {
   "cell_type": "code",
   "execution_count": 131,
   "metadata": {},
   "outputs": [],
   "source": [
    "longMin = crime['long'].min()"
   ]
  },
  {
   "cell_type": "code",
   "execution_count": 132,
   "metadata": {},
   "outputs": [],
   "source": [
    "longMax = crime['long'].max()"
   ]
  },
  {
   "cell_type": "code",
   "execution_count": 133,
   "metadata": {},
   "outputs": [],
   "source": [
    "latMin = crime['lat'].min()"
   ]
  },
  {
   "cell_type": "code",
   "execution_count": 134,
   "metadata": {},
   "outputs": [],
   "source": [
    "latMax = crime['lat'].max()"
   ]
  },
  {
   "cell_type": "code",
   "execution_count": 11,
   "metadata": {},
   "outputs": [],
   "source": [
    "disLong = crime['long'].max() - crime['long'].min()\n",
    "disLat = crime['lat'].max() - crime['lat'].min()"
   ]
  },
  {
   "cell_type": "code",
   "execution_count": 14,
   "metadata": {},
   "outputs": [
    {
     "data": {
      "text/plain": [
       "0.004094622590529973"
      ]
     },
     "execution_count": 14,
     "metadata": {},
     "output_type": "execute_result"
    }
   ],
   "source": [
    "disLat/80"
   ]
  },
  {
   "cell_type": "code",
   "execution_count": 15,
   "metadata": {},
   "outputs": [
    {
     "data": {
      "text/plain": [
       "0.0033245005486169533"
      ]
     },
     "execution_count": 15,
     "metadata": {},
     "output_type": "execute_result"
    }
   ],
   "source": [
    "disLong/100"
   ]
  },
  {
   "cell_type": "markdown",
   "metadata": {},
   "source": [
    "Entonces definimos los steps como un aproximado"
   ]
  },
  {
   "cell_type": "code",
   "execution_count": 16,
   "metadata": {},
   "outputs": [],
   "source": [
    "stepLat = 0.0041"
   ]
  },
  {
   "cell_type": "code",
   "execution_count": 17,
   "metadata": {},
   "outputs": [],
   "source": [
    "stepLong = 0.0033"
   ]
  },
  {
   "cell_type": "code",
   "execution_count": 30,
   "metadata": {},
   "outputs": [],
   "source": [
    "arrLat = np.ones(80)\n",
    "arrLong = np.ones(100)\n"
   ]
  },
  {
   "cell_type": "code",
   "execution_count": 32,
   "metadata": {},
   "outputs": [],
   "source": [
    "arrLat = arrLat*crime['lat'].min()\n",
    "arrLong = arrLong*crime['long'].min()"
   ]
  },
  {
   "cell_type": "code",
   "execution_count": 37,
   "metadata": {},
   "outputs": [],
   "source": [
    "for i in range(79):\n",
    "    arrLat[i] += stepLat*i\n",
    "arrLat[79] = crime['lat'].max()\n",
    "for i in range(99):\n",
    "    arrLong[i] += stepLong*i\n",
    "arrLong[99] = crime['long'].max()"
   ]
  },
  {
   "cell_type": "code",
   "execution_count": 35,
   "metadata": {},
   "outputs": [
    {
     "data": {
      "text/plain": [
       "array([19.25078019, 19.25488019, 19.25898019, 19.26308019, 19.26718019,\n",
       "       19.27128019, 19.27538019, 19.27948019, 19.28358019, 19.28768019,\n",
       "       19.29178019, 19.29588019, 19.29998019, 19.30408019, 19.30818019,\n",
       "       19.31228019, 19.31638019, 19.32048019, 19.32458019, 19.32868019,\n",
       "       19.33278019, 19.33688019, 19.34098019, 19.34508019, 19.34918019,\n",
       "       19.35328019, 19.35738019, 19.36148019, 19.36558019, 19.36968019,\n",
       "       19.37378019, 19.37788019, 19.38198019, 19.38608019, 19.39018019,\n",
       "       19.39428019, 19.39838019, 19.40248019, 19.40658019, 19.41068019,\n",
       "       19.41478019, 19.41888019, 19.42298019, 19.42708019, 19.43118019,\n",
       "       19.43528019, 19.43938019, 19.44348019, 19.44758019, 19.45168019,\n",
       "       19.45578019, 19.45988019, 19.46398019, 19.46808019, 19.47218019,\n",
       "       19.47628019, 19.48038019, 19.48448019, 19.48858019, 19.49268019,\n",
       "       19.49678019, 19.50088019, 19.50498019, 19.50908019, 19.51318019,\n",
       "       19.51728019, 19.52138019, 19.52548019, 19.52958019, 19.53368019,\n",
       "       19.53778019, 19.54188019, 19.54598019, 19.55008019, 19.55418019,\n",
       "       19.55828019, 19.56238019, 19.56648019, 19.57058019, 19.57835   ])"
      ]
     },
     "execution_count": 35,
     "metadata": {},
     "output_type": "execute_result"
    }
   ],
   "source": [
    "arrLat"
   ]
  },
  {
   "cell_type": "code",
   "execution_count": 38,
   "metadata": {},
   "outputs": [
    {
     "data": {
      "text/plain": [
       "array([-99.30617728, -99.29957728, -99.29297728, -99.28637728,\n",
       "       -99.27977728, -99.27317728, -99.26657728, -99.25997728,\n",
       "       -99.25337728, -99.24677728, -99.24017728, -99.23357728,\n",
       "       -99.22697728, -99.22037728, -99.21377728, -99.20717728,\n",
       "       -99.20057728, -99.19397728, -99.18737728, -99.18077728,\n",
       "       -99.17417728, -99.16757728, -99.16097728, -99.15437728,\n",
       "       -99.14777728, -99.14117728, -99.13457728, -99.12797728,\n",
       "       -99.12137728, -99.11477728, -99.10817728, -99.10157728,\n",
       "       -99.09497728, -99.08837728, -99.08177728, -99.07517728,\n",
       "       -99.06857728, -99.06197728, -99.05537728, -99.04877728,\n",
       "       -99.04217728, -99.03557728, -99.02897728, -99.02237728,\n",
       "       -99.01577728, -99.00917728, -99.00257728, -98.99597728,\n",
       "       -98.98937728, -98.98277728, -98.97617728, -98.96957728,\n",
       "       -98.96297728, -98.95637728, -98.94977728, -98.94317728,\n",
       "       -98.93657728, -98.92997728, -98.92337728, -98.91677728,\n",
       "       -98.91017728, -98.90357728, -98.89697728, -98.89037728,\n",
       "       -98.88377728, -98.87717728, -98.87057728, -98.86397728,\n",
       "       -98.85737728, -98.85077728, -98.84417728, -98.83757728,\n",
       "       -98.83097728, -98.82437728, -98.81777728, -98.81117728,\n",
       "       -98.80457728, -98.79797728, -98.79137728, -98.78477728,\n",
       "       -98.77817728, -98.77157728, -98.76497728, -98.75837728,\n",
       "       -98.75177728, -98.74517728, -98.73857728, -98.73197728,\n",
       "       -98.72537728, -98.71877728, -98.71217728, -98.70557728,\n",
       "       -98.69897728, -98.69237728, -98.68577728, -98.67917728,\n",
       "       -98.67257728, -98.66597728, -98.65937728, -98.97372723])"
      ]
     },
     "execution_count": 38,
     "metadata": {},
     "output_type": "execute_result"
    }
   ],
   "source": [
    "arrLong"
   ]
  },
  {
   "cell_type": "code",
   "execution_count": 99,
   "metadata": {},
   "outputs": [],
   "source": [
    "\n",
    "mat1 = []\n",
    "mat2 = []"
   ]
  },
  {
   "cell_type": "code",
   "execution_count": 101,
   "metadata": {},
   "outputs": [],
   "source": [
    "for i in range(80):\n",
    "    mat1.append([])\n",
    "    mat2.append([])\n",
    "    for j in range(100):\n",
    "        mat1[i].append([])\n",
    "        mat2[i].append([])"
   ]
  },
  {
   "cell_type": "markdown",
   "metadata": {},
   "source": [
    "Ya hice 20 matrices de 8000 arreglos cada una, ahora voy a recorrer todos los crimenes y separalos en el lugar que les toca, mat1 va a tener todas las latitudes de la zona, y mat2 todas las longitudes.|"
   ]
  },
  {
   "cell_type": "code",
   "execution_count": 104,
   "metadata": {},
   "outputs": [],
   "source": [
    "def latIndex(lat):\n",
    "    for i in range(80):\n",
    "        if(lat <= arrLat[i]):\n",
    "            return i"
   ]
  },
  {
   "cell_type": "code",
   "execution_count": 105,
   "metadata": {},
   "outputs": [],
   "source": [
    "def longIndex(long):\n",
    "    for i in range(100):\n",
    "        if(long <= arrLong[i]):\n",
    "            return i"
   ]
  },
  {
   "cell_type": "code",
   "execution_count": 106,
   "metadata": {},
   "outputs": [],
   "source": [
    "n =crime.shape[0]"
   ]
  },
  {
   "cell_type": "code",
   "execution_count": 107,
   "metadata": {},
   "outputs": [
    {
     "data": {
      "text/plain": [
       "31056"
      ]
     },
     "execution_count": 107,
     "metadata": {},
     "output_type": "execute_result"
    }
   ],
   "source": [
    "n"
   ]
  },
  {
   "cell_type": "code",
   "execution_count": 108,
   "metadata": {},
   "outputs": [],
   "source": [
    "for i in range(31056):\n",
    "    lat = crime['lat'][i]\n",
    "    long = crime['long'][i]\n",
    "    latIn = latIndex(lat)\n",
    "    longIn = longIndex(long)\n",
    "    mat1[latIn][longIn].append(lat)\n",
    "    mat2[latIn][longIn].append(long)"
   ]
  },
  {
   "cell_type": "code",
   "execution_count": 125,
   "metadata": {},
   "outputs": [],
   "source": [
    "for i in range(80):\n",
    "    for j in range(100):\n",
    "        if(len(mat1[i][j]) != len(mat2[i][j])):\n",
    "            print(\"error\")"
   ]
  },
  {
   "cell_type": "markdown",
   "metadata": {},
   "source": [
    "Ok, entonces queda comprobado que no hay errores"
   ]
  },
  {
   "cell_type": "markdown",
   "metadata": {},
   "source": [
    "Si hay alguna zona sin delitos entonces pondremos arbitrariamente la cámara en el centro de la zona."
   ]
  },
  {
   "cell_type": "code",
   "execution_count": 126,
   "metadata": {},
   "outputs": [],
   "source": [
    "def creaFuncion(row, col):\n",
    "    n = len(mat1[row][col])\n",
    "    def f(x):\n",
    "        #x pertenece a R2\n",
    "        res = 0;\n",
    "        for i in range (n):\n",
    "           res +=  np.sqrt((x[0] - mat1[row][col][i])**2 + (x[1] - mat2[row][col][i])**2)\n",
    "        return res\n",
    "    return f\n",
    "            "
   ]
  },
  {
   "cell_type": "markdown",
   "metadata": {},
   "source": [
    "ahora aplicamos la funcion vista en el proyecto para todas las zonas, y si la zona no tiene crimenes la ponemos en el centro. y ponemos todos los resultados en dos arreglos ans1, y ans2"
   ]
  },
  {
   "cell_type": "code",
   "execution_count": 138,
   "metadata": {},
   "outputs": [],
   "source": [
    "import util_aa as util\n",
    "def gradiente(f,xk):\n",
    "    n = xk.size\n",
    "    res = np.zeros(n)\n",
    "    for i in range(n):\n",
    "        res[i] = util.derivada_parcial(f,xk,i)\n",
    "    return res\n",
    "\n",
    "def backtracking_line_search(f, xk, p, c = .001, ro = .5):\n",
    "    alpha = 1;\n",
    "    f_k = f(xk)\n",
    "    gr = util.gradiente(f,xk)\n",
    "    while(f(xk + alpha*p) <= f_k + c*alpha*gr.dot(p)):\n",
    "        alpha*= ro;\n",
    "    return alpha\n",
    "def make_pos_def(H):\n",
    "    n = H.shape[0];\n",
    "    Id = np.identity(n)\n",
    "    t = .0001;\n",
    "    while(not util.is_pos_def(H)):\n",
    "        H = H + t*Id\n",
    "        t *= 2\n",
    "    return H\n",
    "def line_search_newton(f, x):\n",
    "    eps = 0.0001\n",
    "    n = 1000\n",
    "    for i in range(n):\n",
    "        B = make_pos_def(util.hessiana(f,x))\n",
    "        gr = gradiente(f,x)\n",
    "        p = np.linalg.solve(B, -1*gr)\n",
    "        alpha = backtracking_line_search(f,x,p)\n",
    "        x += alpha*p\n",
    "    return x\n",
    "    "
   ]
  },
  {
   "cell_type": "code",
   "execution_count": null,
   "metadata": {},
   "outputs": [],
   "source": [
    "ans1 = []\n",
    "ans2 = []\n",
    "for i in range(80):\n",
    "    for j in range(100):\n",
    "        x = np.zeros(2)\n",
    "        if len(mat1[i][j]) == 0:\n",
    "            if i == 0:\n",
    "                x[0] = (arrLat[0] + latMin)/2\n",
    "            else:\n",
    "                x[0] = (arrLat[i] + arrLat[i-1])/2\n",
    "            if j == 0:\n",
    "                x[1] = (arrLong[0] + longMin)/2\n",
    "            else:\n",
    "                x[1] = (arrLong[j] + arrLong[j-1])/2\n",
    "        else:\n",
    "            inicial = np.zeros(2)\n",
    "            f = creaFuncion(i,j)\n",
    "            x = line_search_newton(f,inicial)\n",
    "        ans1.append(x[0])\n",
    "        ans2.append(x[1])"
   ]
  },
  {
   "cell_type": "markdown",
   "metadata": {},
   "source": [
    "Y ya, las cámaras estan en las posiciones que indican ans1 y ans2, ans1[i] indica la latitud de la iésima cámara, y ans2[i] indica la longitud de la iésima cámara."
   ]
  }
 ],
 "metadata": {
  "kernelspec": {
   "display_name": "Python 3",
   "language": "python",
   "name": "python3"
  },
  "language_info": {
   "codemirror_mode": {
    "name": "ipython",
    "version": 3
   },
   "file_extension": ".py",
   "mimetype": "text/x-python",
   "name": "python",
   "nbconvert_exporter": "python",
   "pygments_lexer": "ipython3",
   "version": "3.8.3"
  }
 },
 "nbformat": 4,
 "nbformat_minor": 4
}
