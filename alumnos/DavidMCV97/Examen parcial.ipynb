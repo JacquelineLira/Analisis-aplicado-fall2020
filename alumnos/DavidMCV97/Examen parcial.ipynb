{
 "cells": [
  {
   "cell_type": "markdown",
   "metadata": {},
   "source": [
    "# Examen parcial "
   ]
  },
  {
   "cell_type": "markdown",
   "metadata": {},
   "source": [
    "Tenemos 8000 cámaras de seguridad. Te piden ayuda para elegir la posición óptima de las 8000 cámaras, a partir de los datos en el archivo .csv de ubicaciones de crímenes."
   ]
  },
  {
   "cell_type": "code",
   "execution_count": 76,
   "metadata": {},
   "outputs": [],
   "source": [
    "import pandas as pd\n",
    "data = pd.read_csv(r'data.csv')\n",
    "X = pd.unique(data['lat'])\n",
    "Y = pd.unique(data['long'])\n",
    "m = Y.shape[0]"
   ]
  },
  {
   "cell_type": "code",
   "execution_count": 77,
   "metadata": {},
   "outputs": [],
   "source": [
    "import numpy as np\n",
    "n = 8 # numero de camaras\n",
    "A = np.zeros(n)\n",
    "B = np.zeros(n)"
   ]
  },
  {
   "cell_type": "code",
   "execution_count": 97,
   "metadata": {},
   "outputs": [],
   "source": [
    "def cercano(x,y):\n",
    "    #nos dice cual es la cámara más cercana\n",
    "    dis = float(\"inf\")\n",
    "    for i in range(n):\n",
    "        a = A[i]\n",
    "        b = B[i]\n",
    "        vec = np.array([x-a,y-b])\n",
    "        aux = np.linalg.norm(vec)\n",
    "        if aux < dis:\n",
    "            dis = aux\n",
    "            ind = i\n",
    "            r1 = a\n",
    "            r2 = b\n",
    "    return dis"
   ]
  },
  {
   "cell_type": "code",
   "execution_count": 100,
   "metadata": {},
   "outputs": [],
   "source": [
    "def f():\n",
    "    f = 0\n",
    "    for i in range(m):\n",
    "        x = X[i]\n",
    "        y = Y[i]\n",
    "        f = f + cercano(x,y)\n",
    "    return f"
   ]
  }
 ],
 "metadata": {
  "kernelspec": {
   "display_name": "Python 3",
   "language": "python",
   "name": "python3"
  },
  "language_info": {
   "codemirror_mode": {
    "name": "ipython",
    "version": 3
   },
   "file_extension": ".py",
   "mimetype": "text/x-python",
   "name": "python",
   "nbconvert_exporter": "python",
   "pygments_lexer": "ipython3",
   "version": "3.8.5"
  }
 },
 "nbformat": 4,
 "nbformat_minor": 4
}
