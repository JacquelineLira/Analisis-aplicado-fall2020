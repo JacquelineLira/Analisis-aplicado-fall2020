{
 "cells": [
  {
   "cell_type": "markdown",
   "metadata": {},
   "source": [
    "# Proyecto 1 "
   ]
  },
  {
   "cell_type": "markdown",
   "metadata": {},
   "source": [
    "### Descripción"
   ]
  },
  {
   "cell_type": "markdown",
   "metadata": {},
   "source": [
    "En el presente proyecto desarrollamos un método numérico de búsqueda de mínimos locales para funciones de $R^n \\to R$. El método usado es un método lineal del tipo Newton Modificado, según como se describe en el capítulo 3 del libro \"Numerical Optimization\" (2a ed., 2006) de J. Nocedal, y S. Wright. \n",
    "\n",
    "El algoritmo funciona de la siguiente manera; supongamos que queremos optimizar una función $f:R^n \\to R$. Dado un punto inicial $x_0$, nuestro algortimo buscara un nuevo punto $x_1$ tal que \n",
    "\n",
    "\\begin{align}\n",
    "    x_1 = x_0 + \\alpha_0 p_0\n",
    "\\end{align}\n",
    "\n",
    "donde $p_0$ es un vector que se obtiene con el método de Newton Modificado y $\\alpha_0$ es una constante positiva que define el tamaño del paso. El vector $p_0$ se obtiene de la siguiente forma:\n",
    "\n",
    "\\begin{align}\n",
    "    p_0 = -B^{-1}_{0} \\nabla f(x_0)\n",
    "\\end{align}\n",
    "\n",
    "donde $B_0$ es una aproximación a la matriz Hessiana de f. \\\\\n",
    "\n",
    "Para obtener $B_{0}$, usamos una aproximación numérica a la Hessiana y una matriz $E_{0}$ que asegure que $B_0$ sea positiva definida.\n",
    "\n",
    "\\begin{align}\n",
    "B_{0} = \\nabla^2 f(x_0) + E_{0}\n",
    "\\end{align}\n",
    "\n",
    "En particular definiremos $E_0 = \\lambda_0 I_{n}$, con $\\lambda \\in R$ una constante positiva. Si la matriz hessiana $\\nabla^2 f(x_0)$ ya es positiva definida, tomaremos $\\lambda_{0} = 0$.\n",
    "\n",
    "Ahora, para definir $\\alpha_0$ iniciaremos definiéndola como 1 y la reduciremos poco a poco hasta que satisfaga las condiciones de wolfe.\n",
    "\n",
    "Una vez que obtenemos $x_1$, repetimos el proceso para obtener $x_2$, $x_3$, $x_4$... hasta que obtengamos un vector $x_k$ que satisfaga condiciones de optimalidad."
   ]
  },
  {
   "cell_type": "markdown",
   "metadata": {},
   "source": [
    "### Valores iniciales (interactivos)"
   ]
  },
  {
   "cell_type": "code",
   "execution_count": 1,
   "metadata": {},
   "outputs": [],
   "source": [
    "import numpy as np\n",
    "import funciones as fn"
   ]
  },
  {
   "cell_type": "markdown",
   "metadata": {},
   "source": [
    "función a optimizar (se recomienda usar una función de Rosenbrock):"
   ]
  },
  {
   "cell_type": "code",
   "execution_count": 2,
   "metadata": {},
   "outputs": [],
   "source": [
    "a = 1\n",
    "b = 100\n",
    "f = lambda x: (a-x[0])**2 + b*(x[1]-x[0]**2)**2"
   ]
  },
  {
   "cell_type": "markdown",
   "metadata": {},
   "source": [
    "Valor inicial ($x_0$):"
   ]
  },
  {
   "cell_type": "code",
   "execution_count": 3,
   "metadata": {
    "scrolled": true
   },
   "outputs": [],
   "source": [
    "x = np.array([5,20])"
   ]
  },
  {
   "cell_type": "code",
   "execution_count": 4,
   "metadata": {},
   "outputs": [
    {
     "data": {
      "text/plain": [
       "2516"
      ]
     },
     "execution_count": 4,
     "metadata": {},
     "output_type": "execute_result"
    }
   ],
   "source": [
    "f(x)"
   ]
  },
  {
   "cell_type": "markdown",
   "metadata": {},
   "source": [
    "constantes para los métodos:"
   ]
  },
  {
   "cell_type": "code",
   "execution_count": 17,
   "metadata": {},
   "outputs": [],
   "source": [
    "c1= 0.3\n",
    "c2= 0.5\n",
    "rho = 0.55"
   ]
  },
  {
   "cell_type": "markdown",
   "metadata": {},
   "source": [
    "función para generar alpha (algoritmo 3.1):"
   ]
  },
  {
   "cell_type": "code",
   "execution_count": 18,
   "metadata": {},
   "outputs": [],
   "source": [
    "def alpha(f,x,p,c1,c2,rho):\n",
    "    a = 1\n",
    "    i = 1\n",
    "    M=5000\n",
    "    wolfe=fn.wolfe(f,x,p,a,c1,c2)\n",
    "    while i<M and wolfe==False:\n",
    "        a = rho*a\n",
    "        i = i+1\n",
    "        wolfe=fn.wolfe(f,x,p,a,c1,c2)\n",
    "    #if i==M:\n",
    "        #print(\"i máxima alcanzada\")\n",
    "    return a"
   ]
  },
  {
   "cell_type": "markdown",
   "metadata": {},
   "source": [
    "algoritmo para encontrar el mínimo (algoritmo 3.2):"
   ]
  },
  {
   "cell_type": "code",
   "execution_count": 19,
   "metadata": {},
   "outputs": [],
   "source": [
    "def busqueda_lneal_modif_hessiana(f,x):\n",
    "    \n",
    "    optimo=fn.es_optimo(f,x)\n",
    "    k=0\n",
    "    while k<300 and optimo==False:\n",
    "        B = fn.hessiana(f,x) #Aproximación de la Hessiana\n",
    "        B=fn.volver_pd(B) #Si no es positiva definada la forzamos a que lo sea\n",
    "        g = -fn.gradiente(f,x)\n",
    "        p = np.linalg.solve(B,g)\n",
    "        a = alpha(f,x,p,c1,c2,rho)\n",
    "        x = x+a*p\n",
    "        optimo = fn.es_optimo(f,x)\n",
    "        k=k+1\n",
    "    if k==300:\n",
    "        print (\"K máxima alcanzada\")\n",
    "    return x"
   ]
  },
  {
   "cell_type": "code",
   "execution_count": 20,
   "metadata": {},
   "outputs": [
    {
     "name": "stdout",
     "output_type": "stream",
     "text": [
      "K máxima alcanzada\n"
     ]
    }
   ],
   "source": [
    "z=busqueda_lneal_modif_hessiana(f,x)"
   ]
  },
  {
   "cell_type": "markdown",
   "metadata": {},
   "source": [
    "resultado:"
   ]
  },
  {
   "cell_type": "code",
   "execution_count": 21,
   "metadata": {
    "scrolled": true
   },
   "outputs": [
    {
     "data": {
      "text/plain": [
       "array([0.99989456, 0.99820479])"
      ]
     },
     "execution_count": 21,
     "metadata": {},
     "output_type": "execute_result"
    }
   ],
   "source": [
    "z"
   ]
  },
  {
   "cell_type": "code",
   "execution_count": 22,
   "metadata": {},
   "outputs": [
    {
     "data": {
      "text/plain": [
       "0.00025102447620237417"
      ]
     },
     "execution_count": 22,
     "metadata": {},
     "output_type": "execute_result"
    }
   ],
   "source": [
    "f(z)"
   ]
  },
  {
   "cell_type": "code",
   "execution_count": null,
   "metadata": {},
   "outputs": [],
   "source": []
  },
  {
   "cell_type": "code",
   "execution_count": null,
   "metadata": {},
   "outputs": [],
   "source": []
  }
 ],
 "metadata": {
  "kernelspec": {
   "display_name": "Python 3",
   "language": "python",
   "name": "python3"
  },
  "language_info": {
   "codemirror_mode": {
    "name": "ipython",
    "version": 3
   },
   "file_extension": ".py",
   "mimetype": "text/x-python",
   "name": "python",
   "nbconvert_exporter": "python",
   "pygments_lexer": "ipython3",
   "version": "3.8.3"
  }
 },
 "nbformat": 4,
 "nbformat_minor": 4
}
