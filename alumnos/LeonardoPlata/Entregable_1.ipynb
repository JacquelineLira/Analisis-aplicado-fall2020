{
 "cells": [
  {
   "cell_type": "code",
   "execution_count": 37,
   "metadata": {},
   "outputs": [],
   "source": [
    "import numpy as np\n",
    "from numpy import linalg as LA\n",
    "import random as ran"
   ]
  },
  {
   "cell_type": "code",
   "execution_count": 38,
   "metadata": {},
   "outputs": [],
   "source": [
    "def Rosenbrock(x0):\n",
    "        a=1\n",
    "        b=100\n",
    "        x=x0[0]\n",
    "        y=x0[1]\n",
    "        f = (a-x)**2 + b*(y-x**2)**2\n",
    "        return f"
   ]
  },
  {
   "cell_type": "code",
   "execution_count": 39,
   "metadata": {},
   "outputs": [],
   "source": [
    "def grad(f, x0, h):\n",
    "    n = len(x0)\n",
    "    G = np.zeros(n)\n",
    "    for i in range(n):\n",
    "        z = np.zeros(n)\n",
    "        z[i] += h\n",
    "        xi = x0 + z\n",
    "        G[i] = (f(xi) - f(x0))/h\n",
    "    return G"
   ]
  },
  {
   "cell_type": "code",
   "execution_count": 40,
   "metadata": {},
   "outputs": [],
   "source": [
    "def hess(f,x0,h):\n",
    "    n = len(x0)\n",
    "    s= (n,n)\n",
    "    H = np.zeros(s)\n",
    "    for i in range(n):\n",
    "        for j in range(n):\n",
    "            z1 = np.zeros(n)\n",
    "            z2 = z1\n",
    "            z1[i] += h\n",
    "            z2[j] += h\n",
    "            x1 = x0 + z1 + z2\n",
    "            x2 = x0 + z1 - z2\n",
    "            x3 = x0 - z1 + z2\n",
    "            x4 = x0 - z1 - z2\n",
    "            H[i,j] = (f(x1) - f(x2) - f(x3) + f(x4))/(4*(h**2))\n",
    "    return H"
   ]
  },
  {
   "cell_type": "code",
   "execution_count": 41,
   "metadata": {},
   "outputs": [],
   "source": [
    "def defpos(f,x0,h):\n",
    "    Con = LA.eig(hess(f,x0,h))\n",
    "    CO = np.all(Con[0] >= h)    \n",
    "    return CO"
   ]
  },
  {
   "cell_type": "code",
   "execution_count": 42,
   "metadata": {},
   "outputs": [],
   "source": [
    "def mk(f,x0,h):\n",
    "    G = grad(f, x0, h)\n",
    "    H = hess(f, x0, h)\n",
    "    norma = np.linalg.norm(G)\n",
    "    p1 = -G/norma\n",
    "    p = np.transpose(p1)\n",
    "    mk = f(x0) + p*G + 0.5*p*H*p1\n",
    "    return mk"
   ]
  },
  {
   "cell_type": "code",
   "execution_count": 43,
   "metadata": {},
   "outputs": [],
   "source": [
    "def BLS(a,f,xk,pk,h):         ##  Algoritmo 3.1: Backtracking Line Search\n",
    "    rho=ran.uniform(0,1)\n",
    "    c=ran.uniform(0,1)\n",
    "    a0=a\n",
    "    while f(xk +a0*pk) > f(xk) + c*a0*np.dot(np.transpose(grad(f,xk,h)),pk):\n",
    "        a0 = rho*a0\n",
    "    return a0"
   ]
  },
  {
   "cell_type": "code",
   "execution_count": 44,
   "metadata": {},
   "outputs": [],
   "source": [
    "def cholesky2(Bk,h,maxIt=10000):      ##  Algoritmo 3.3: Cholesky with added multiple of the identity.  \n",
    "    beta=10**-3\n",
    "    if min(np.diag(Bk)) > 0 :           ##  La utilizamos para obtener Ek del algoritmo 3.2\n",
    "        t = 0\n",
    "    else:\n",
    "        t = -min(np.diag(Bk)) + beta\n",
    "    for i in range(maxIt):\n",
    "        try:\n",
    "            L = LA.cholesky(Bk + t*np.identity(len(Bk)))\n",
    "            break\n",
    "        except:\n",
    "            t = max(2*t,beta)\n",
    "    return np.dot(L,L)"
   ]
  },
  {
   "cell_type": "code",
   "execution_count": 45,
   "metadata": {},
   "outputs": [],
   "source": [
    "def NewMod(f,xk,h,maxIt=1000):          ##  Algoritmo 3.2: Line search Newton with modification\n",
    "    for k in range(maxIt):\n",
    "         Bk = hess(f,xk,h)\n",
    "         try:\n",
    "            L = la.cholesky(Bk)\n",
    "         except:\n",
    "            Bk = cholesky2(Bk,h)\n",
    "            pk = LA.inv(Bk).dot(-grad(f,xk,h))\n",
    "            a = BLS(1,f,xk,pk,h)\n",
    "            xk = xk + a*pk\n",
    "    return xk\n"
   ]
  },
  {
   "cell_type": "code",
   "execution_count": 46,
   "metadata": {},
   "outputs": [
    {
     "name": "stdout",
     "output_type": "stream",
     "text": [
      "El gradiente es:\n",
      "[115.60625005 -47.999     ]\n",
      "El hessiano es:\n",
      "[[5000.00000292  489.99998281]\n",
      " [ 489.99998281  799.99999958]]\n",
      "Bk es definida positiva\n",
      "El resultado obtenido con la busqueda lineal de Newton fue:\n",
      "[1.12817739 1.27309686]\n"
     ]
    }
   ],
   "source": [
    "x0 = (1.2,1.2)                           ### Prueba del algoritmo \n",
    "print(\"El gradiente es:\")\n",
    "print(grad(Rosenbrock,x0,0.00001))\n",
    "print(\"El hessiano es:\")\n",
    "print(hess(Rosenbrock,x0,0.00001))\n",
    "if(defpos(Rosenbrock,x0,0.00001)):\n",
    "    print(\"Bk es definida positiva\")\n",
    "else:\n",
    "    print(\"Bk NO es definida positiva\")\n",
    "print(\"El resultado obtenido con la busqueda lineal de Newton fue:\")\n",
    "print(NewMod(Rosenbrock,x0,0.000001))"
   ]
  },
  {
   "cell_type": "code",
   "execution_count": 47,
   "metadata": {},
   "outputs": [],
   "source": [
    "def Rosenbrock(x0):                      ## Cambiamos los parámetros de la función de Rosenbrock \n",
    "        a=1\n",
    "        b=50\n",
    "        x=x0[0]\n",
    "        y=x0[1]\n",
    "        f = (a-x)**2 + b*(y-x**2)**2\n",
    "        return f"
   ]
  },
  {
   "cell_type": "code",
   "execution_count": 48,
   "metadata": {},
   "outputs": [
    {
     "name": "stdout",
     "output_type": "stream",
     "text": [
      "El gradiente es:\n",
      "[ 58.00313002 -23.9995    ]\n",
      "El hessiano es:\n",
      "[[2504.00000179  245.99999038]\n",
      " [ 245.99999038  399.99999979]]\n",
      "Bk es definida positiva\n",
      "El resultado obtenido con la busqueda lineal de Newton fue:\n",
      "[1.10225776 1.21548061]\n"
     ]
    }
   ],
   "source": [
    "x0 = (1.2,1.2)                           ### Segunda prueba del algoritmo \n",
    "print(\"El gradiente es:\")\n",
    "print(grad(Rosenbrock,x0,0.00001))\n",
    "print(\"El hessiano es:\")\n",
    "print(hess(Rosenbrock,x0,0.00001))\n",
    "if(defpos(Rosenbrock,x0,0.00001)):\n",
    "    print(\"Bk es definida positiva\")\n",
    "else:\n",
    "    print(\"Bk NO es definida positiva\")\n",
    "print(\"El resultado obtenido con la busqueda lineal de Newton fue:\")\n",
    "print(NewMod(Rosenbrock,x0,0.000001))"
   ]
  },
  {
   "cell_type": "code",
   "execution_count": 49,
   "metadata": {},
   "outputs": [],
   "source": [
    "def Rosenbrock(x0):                      ## Cambiamos los parámetros de la función de Rosenbrock \n",
    "        a=0\n",
    "        b=100\n",
    "        x=x0[0]\n",
    "        y=x0[1]\n",
    "        f = (a-x)**2 + b*(y-x**2)**2\n",
    "        return f"
   ]
  },
  {
   "cell_type": "code",
   "execution_count": 50,
   "metadata": {},
   "outputs": [
    {
     "name": "stdout",
     "output_type": "stream",
     "text": [
      "El gradiente es:\n",
      "[117.60625005 -47.999     ]\n",
      "El hessiano es:\n",
      "[[5000.00000736  489.99998281]\n",
      " [ 489.99998281  800.00000402]]\n",
      "Bk es definida positiva\n",
      "El resultado obtenido con la busqueda lineal de Newton fue:\n",
      "[0.87755503 0.7727446 ]\n"
     ]
    }
   ],
   "source": [
    "x0 = (1.2,1.2)                           ### Tercera prueba del algoritmo \n",
    "print(\"El gradiente es:\")\n",
    "print(grad(Rosenbrock,x0,0.00001))\n",
    "print(\"El hessiano es:\")\n",
    "print(hess(Rosenbrock,x0,0.00001))\n",
    "if(defpos(Rosenbrock,x0,0.00001)):\n",
    "    print(\"Bk es definida positiva\")\n",
    "else:\n",
    "    print(\"Bk NO es definida positiva\")\n",
    "print(\"El resultado obtenido con la busqueda lineal de Newton fue:\")\n",
    "print(NewMod(Rosenbrock,x0,0.000001))"
   ]
  },
  {
   "cell_type": "code",
   "execution_count": null,
   "metadata": {},
   "outputs": [],
   "source": []
  }
 ],
 "metadata": {
  "kernelspec": {
   "display_name": "Python 3",
   "language": "python",
   "name": "python3"
  },
  "language_info": {
   "codemirror_mode": {
    "name": "ipython",
    "version": 3
   },
   "file_extension": ".py",
   "mimetype": "text/x-python",
   "name": "python",
   "nbconvert_exporter": "python",
   "pygments_lexer": "ipython3",
   "version": "3.8.5"
  }
 },
 "nbformat": 4,
 "nbformat_minor": 4
}
