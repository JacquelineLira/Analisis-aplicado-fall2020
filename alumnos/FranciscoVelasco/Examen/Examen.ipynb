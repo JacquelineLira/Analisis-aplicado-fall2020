{
 "cells": [
  {
   "cell_type": "markdown",
   "metadata": {},
   "source": [
    "# Examen\n",
    "\n",
    "\n",
    "Francisco Velasco Medina 165473 \n",
    "\n",
    " \n"
   ]
  },
  {
   "cell_type": "code",
   "execution_count": 29,
   "metadata": {},
   "outputs": [],
   "source": [
    "from sklearn.cluster import KMeans\n",
    "import numpy as np\n",
    "import csv\n",
    "import numpy as np"
   ]
  },
  {
   "cell_type": "code",
   "execution_count": 15,
   "metadata": {},
   "outputs": [
    {
     "name": "stdout",
     "output_type": "stream",
     "text": [
      "[['crime', 'date', 'hour', 'lat', 'long'], ['VIOLACION', '2020-09-30', '07:20', '19.3187141195116', '-99.2544184143888'], ['VIOLACION', '2020-09-29', '22:30', '19.3787623294966', '-99.2054882891359'], ['VIOLACION', '2020-09-29', '22:00', '19.3479712037211', '-99.0301617003363'], ['VIOLACION', '2020-09-29', '23:30', '19.5573108840145', '-99.1341664530095']]\n"
     ]
    }
   ],
   "source": [
    "with open('crime_data.csv', newline='') as f:\n",
    "    reader = csv.reader(f)\n",
    "    data = list(reader)\n",
    "\n",
    "print(data[:5])"
   ]
  },
  {
   "cell_type": "markdown",
   "metadata": {},
   "source": [
    "Nos quedaremos con las latitudes y longitudes. Las otras columnas no son relevantes para la función."
   ]
  },
  {
   "cell_type": "code",
   "execution_count": 31,
   "metadata": {},
   "outputs": [
    {
     "name": "stdout",
     "output_type": "stream",
     "text": [
      "[['lat', 'long'], ['19.3187141195116', '-99.2544184143888'], ['19.3787623294966', '-99.2054882891359'], ['19.3479712037211', '-99.0301617003363'], ['19.5573108840145', '-99.1341664530095'], ['19.3421251909344', '-99.1242797433235'], ['19.3347216558058', '-99.0303168445873'], ['19.447346201278', '-99.1591202996526'], ['19.4037344561428', '-99.1384986857436'], ['19.5634047855988', '-99.1325700431472']]\n",
      "[['19.3187141195116', '-99.2544184143888'], ['19.3787623294966', '-99.2054882891359'], ['19.3479712037211', '-99.0301617003363'], ['19.5573108840145', '-99.1341664530095'], ['19.3421251909344', '-99.1242797433235'], ['19.3347216558058', '-99.0303168445873'], ['19.447346201278', '-99.1591202996526'], ['19.4037344561428', '-99.1384986857436'], ['19.5634047855988', '-99.1325700431472'], ['19.3929769585982', '-99.1011012429557']]\n",
      "[['19.3187141195116' '-99.2544184143888']\n",
      " ['19.3787623294966' '-99.2054882891359']\n",
      " ['19.3479712037211' '-99.0301617003363']\n",
      " ['19.5573108840145' '-99.1341664530095']\n",
      " ['19.3421251909344' '-99.1242797433235']\n",
      " ['19.3347216558058' '-99.0303168445873']\n",
      " ['19.447346201278' '-99.1591202996526']\n",
      " ['19.4037344561428' '-99.1384986857436']\n",
      " ['19.5634047855988' '-99.1325700431472']\n",
      " ['19.3929769585982' '-99.1011012429557']]\n"
     ]
    }
   ],
   "source": [
    "cri_ubic = []\n",
    "\n",
    "for x in data:\n",
    "    cri_ubic.append([x[-2],x[-1]])\n",
    "    \n",
    "  \n",
    "    \n",
    "print(cri_ubic[:10])\n",
    "cri_ubic.pop(0)\n",
    "print(cri_ubic[:10])\n",
    "\n",
    "arr = np.array(cri_ubic) \n",
    "\n",
    "print(arr[:10])"
   ]
  },
  {
   "cell_type": "code",
   "execution_count": 34,
   "metadata": {},
   "outputs": [
    {
     "name": "stdout",
     "output_type": "stream",
     "text": [
      "19.2507801927576\n",
      "19.57835\n",
      "-98.9737272300959\n",
      "-99.3061772849576\n"
     ]
    }
   ],
   "source": [
    "print(min(arr[:,0]))\n",
    "print(max(arr[:,0]))\n",
    "print(min(arr[:,1]))\n",
    "print(max(arr[:,1]))"
   ]
  },
  {
   "cell_type": "code",
   "execution_count": null,
   "metadata": {},
   "outputs": [],
   "source": [
    "kmeans = KMeans(n_clusters=8000, random_state=0).fit(arr)\n",
    "print(kmeans.labels_[:10])"
   ]
  },
  {
   "cell_type": "code",
   "execution_count": null,
   "metadata": {},
   "outputs": [],
   "source": [
    "print(kmeans.cluster_centers_[:10])"
   ]
  }
 ],
 "metadata": {
  "kernelspec": {
   "display_name": "Python 3",
   "language": "python",
   "name": "python3"
  },
  "language_info": {
   "codemirror_mode": {
    "name": "ipython",
    "version": 3
   },
   "file_extension": ".py",
   "mimetype": "text/x-python",
   "name": "python",
   "nbconvert_exporter": "python",
   "pygments_lexer": "ipython3",
   "version": "3.7.7"
  }
 },
 "nbformat": 4,
 "nbformat_minor": 4
}
