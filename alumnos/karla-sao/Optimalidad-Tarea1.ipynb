{
 "cells": [
  {
   "cell_type": "code",
   "execution_count": 1,
   "metadata": {},
   "outputs": [],
   "source": [
    "import numpy as np"
   ]
  },
  {
   "cell_type": "code",
   "execution_count": 2,
   "metadata": {},
   "outputs": [],
   "source": [
    "#Calcula el gradiente de una funcion f en el punto x0\n",
    "\n",
    "#f es una funcion\n",
    "#x0 es el punto donde se va a evaluar la funcion\n",
    "\n",
    "def gradiente(f, x0):  \n",
    "    n = x0.size\n",
    "    grad = np.zeros(n)\n",
    "    epsilon = 1e-7\n",
    "    \n",
    "    for i in range(n):\n",
    "        t = np.zeros(n)\n",
    "        t[i] = epsilon \n",
    "        x1 = x0 + t\n",
    "        \n",
    "        grad[i] = (f(x1) - f(x0)) / epsilon\n",
    "        \n",
    "    return grad"
   ]
  },
  {
   "cell_type": "code",
   "execution_count": 3,
   "metadata": {},
   "outputs": [],
   "source": [
    "#Calcula la Hessiana de una funcion en el punto x0\n",
    "\n",
    "#f es una funcion\n",
    "#x0 es el punto donde se va a evaluar la funcion\n",
    "\n",
    "def hessiana(f, x0):\n",
    "    n = x0.size\n",
    "    hess = np.zeros((n,n))\n",
    "    epsilon = 1e-7\n",
    "    \n",
    "    for i in range(n):\n",
    "        for j in range(n):\n",
    "            \n",
    "            ti = np.zeros(n)\n",
    "            ti[i] = ti[i] + epsilon\n",
    "            tj = np.zeros(n)\n",
    "            tj[j] = tj[j] + epsilon\n",
    "            \n",
    "            x1 = x0 + ti + tj\n",
    "            x2 = x0 + ti\n",
    "            x3 = x0 + tj\n",
    "            \n",
    "            hess[i,j] = (f(x1) - f(x2) - f(x3) + f(x0)) / (epsilon ** 2)\n",
    "            \n",
    "    return hess"
   ]
  },
  {
   "cell_type": "code",
   "execution_count": 4,
   "metadata": {},
   "outputs": [],
   "source": [
    "#La funcion dice si un punto cumple con ser un minimo local\n",
    "#Regresa True si es minimo y False si no lo es\n",
    "\n",
    "#f es una funcion\n",
    "#x0 es el punto donde se va a evaluar la funcion\n",
    "\n",
    "def condiciones_optimalidad(f, x0): \n",
    "    \n",
    "    n = x0.size\n",
    "    grad = gradiente(f, x0)\n",
    "    hess = hessiana(f, x0)\n",
    "    epsilon = 1e-5\n",
    "    \n",
    "    landa = np.linalg.eigvals(hess) #Valores propios\n",
    "    resp = 0\n",
    "    \n",
    "    for i in range(n):\n",
    "        if (-epsilon <= grad[i] <= epsilon) and (landa[i] >= 0):\n",
    "            resp = resp + 1\n",
    "            \n",
    "    if resp == n:\n",
    "        return True\n",
    "    else:\n",
    "        return False "
   ]
  },
  {
   "cell_type": "code",
   "execution_count": 5,
   "metadata": {},
   "outputs": [],
   "source": [
    "#Genera la funcion de aproximacion mk para el algoritmo de region de confianza\n",
    "\n",
    "#f es una funcion\n",
    "#x0 es el punto donde se va a evaluar la funcion\n",
    "\n",
    "#Se tomara como direccion la de maximo descenso, es decir P = -gradiente\n",
    "\n",
    "def mk(f, x0):\n",
    "    \n",
    "    grad = gradiente(f, x0)\n",
    "    hess = hessiana(f,x0)\n",
    "    P = -grad / np.linalg.norm(grad)\n",
    "    \n",
    "    return f(x0) + P.T.dot(grad) + 0.5 * (P.T.dot(hess)).dot(P)\n"
   ]
  },
  {
   "cell_type": "markdown",
   "metadata": {},
   "source": [
    "##### Ejemplos"
   ]
  },
  {
   "cell_type": "code",
   "execution_count": 6,
   "metadata": {},
   "outputs": [],
   "source": [
    "def f(x):\n",
    "    return sum(x ** 2)\n",
    "\n",
    "x1 = np.array([1,1,1])\n",
    "x2 = np.array([0,0,0])"
   ]
  },
  {
   "cell_type": "code",
   "execution_count": 7,
   "metadata": {},
   "outputs": [
    {
     "name": "stdout",
     "output_type": "stream",
     "text": [
      "Valor de la funcion:  3\n",
      "\n",
      "Gradiente: \n",
      " [2.0000001 2.0000001 2.0000001]\n",
      "\n",
      "Hessiana: \n",
      " [[ 1.95399252 -0.04440892  0.        ]\n",
      " [-0.04440892  1.95399252  0.        ]\n",
      " [ 0.          0.          1.95399252]]\n",
      "\n",
      "Es punto minimo:\n",
      "  False\n",
      "\n",
      "Funcion mk:\n",
      "  0.49809149393557184\n"
     ]
    }
   ],
   "source": [
    "#Ejemplo con f(x1), x1 no es minimo\n",
    "\n",
    "print('Valor de la funcion: ', f(x1))\n",
    "print('\\nGradiente: \\n', gradiente(f,x1))\n",
    "print('\\nHessiana: \\n', hessiana(f,x1))\n",
    "print('\\nEs punto minimo:\\n ', condiciones_optimalidad(f, x1))\n",
    "print('\\nFuncion mk:\\n ', mk(f, x1))"
   ]
  },
  {
   "cell_type": "code",
   "execution_count": 8,
   "metadata": {},
   "outputs": [
    {
     "name": "stdout",
     "output_type": "stream",
     "text": [
      "Valor de la funcion:  0\n",
      "\n",
      "Gradiente: \n",
      " [1.e-07 1.e-07 1.e-07]\n",
      "\n",
      "Hessiana: \n",
      " [[2. 0. 0.]\n",
      " [0. 2. 0.]\n",
      " [0. 0. 2.]]\n",
      "\n",
      "Es punto minimo:\n",
      "  True\n",
      "\n",
      "Funcion mk:\n",
      "  0.9999998267949193\n"
     ]
    }
   ],
   "source": [
    "#Ejemplo con f(x2), x1 es minimo\n",
    "\n",
    "print('Valor de la funcion: ', f(x2))\n",
    "print('\\nGradiente: \\n', gradiente(f,x2))\n",
    "print('\\nHessiana: \\n', hessiana(f,x2))\n",
    "print('\\nEs punto minimo:\\n ', condiciones_optimalidad(f, x2))\n",
    "print('\\nFuncion mk:\\n ', mk(f, x2))"
   ]
  },
  {
   "cell_type": "code",
   "execution_count": 9,
   "metadata": {},
   "outputs": [],
   "source": [
    "def f(x):\n",
    "    return sum(x ** 2 + 2 * x - 5)\n",
    "\n",
    "x = np.array([4,2,5,2])"
   ]
  },
  {
   "cell_type": "code",
   "execution_count": 10,
   "metadata": {
    "scrolled": false
   },
   "outputs": [
    {
     "name": "stdout",
     "output_type": "stream",
     "text": [
      "Valor de la funcion:  55\n",
      "\n",
      "Gradiente: \n",
      " [10.00000012  6.00000007 12.00000014  6.00000007]\n",
      "\n",
      "Hessiana: \n",
      " [[2.13162821 0.         0.         0.        ]\n",
      " [0.         2.84217094 0.         0.        ]\n",
      " [0.         0.         1.42108547 0.        ]\n",
      " [0.         0.         0.         2.84217094]]\n",
      "\n",
      "Es punto minimo:\n",
      "  False\n",
      "\n",
      "Funcion mk:\n",
      "  38.20847715466678\n"
     ]
    }
   ],
   "source": [
    "print('Valor de la funcion: ', f(x))\n",
    "print('\\nGradiente: \\n', gradiente(f,x))\n",
    "print('\\nHessiana: \\n', hessiana(f,x))\n",
    "print('\\nEs punto minimo:\\n ', condiciones_optimalidad(f, x))\n",
    "print('\\nFuncion mk:\\n ', mk(f, x))"
   ]
  }
 ],
 "metadata": {
  "kernelspec": {
   "display_name": "Python 3",
   "language": "python",
   "name": "python3"
  },
  "language_info": {
   "codemirror_mode": {
    "name": "ipython",
    "version": 3
   },
   "file_extension": ".py",
   "mimetype": "text/x-python",
   "name": "python",
   "nbconvert_exporter": "python",
   "pygments_lexer": "ipython3",
   "version": "3.8.5"
  }
 },
 "nbformat": 4,
 "nbformat_minor": 4
}
