{
 "cells": [
  {
   "cell_type": "markdown",
   "metadata": {},
   "source": [
    "# Proyecto Parte 1"
   ]
  },
  {
   "cell_type": "markdown",
   "metadata": {},
   "source": [
    "### Integrantes del equipo:\n",
    " #### - Alejandro Chávez Mier 173199\n",
    " #### - Héctor Alejandro Vela Toriz 149427\n",
    " #### - Manuel García Garduño 162136\n",
    " #### - Karla Susana Alva Ortiz 174144"
   ]
  },
  {
   "cell_type": "code",
   "execution_count": 1,
   "metadata": {},
   "outputs": [],
   "source": [
    "import numpy as np"
   ]
  },
  {
   "cell_type": "markdown",
   "metadata": {},
   "source": [
    "##### Gradiente"
   ]
  },
  {
   "cell_type": "code",
   "execution_count": 2,
   "metadata": {},
   "outputs": [],
   "source": [
    "def grad(f, x0):\n",
    "    \n",
    "    n = x0.size\n",
    "    eps = 0.00001\n",
    "    res = np.zeros(n)\n",
    "    \n",
    "    for i in range(n):\n",
    "        aux = np.zeros(n)\n",
    "        aux[i] = eps\n",
    "        x1 = x0 + aux\n",
    "        res[i] = (f(x1) - f(x0)) / eps   \n",
    "        \n",
    "    return res"
   ]
  },
  {
   "cell_type": "markdown",
   "metadata": {},
   "source": [
    "##### Hessiana"
   ]
  },
  {
   "cell_type": "code",
   "execution_count": 3,
   "metadata": {},
   "outputs": [],
   "source": [
    "def hess(f,x0):\n",
    "    \n",
    "    n = x0.size\n",
    "    eps = 0.00001\n",
    "    res = np.zeros((n,n))\n",
    "    \n",
    "    for i in range(n):\n",
    "        \n",
    "        aux = np.zeros(n)\n",
    "        aux[i] = eps\n",
    "        x1 = x0 + aux\n",
    "        res[:,i] = (grad(f,x1) - grad(f,x0)) / eps\n",
    "        \n",
    "    return res"
   ]
  },
  {
   "cell_type": "markdown",
   "metadata": {},
   "source": [
    "### Algoritmo 3.1: Para encontrar a $\\alpha$"
   ]
  },
  {
   "cell_type": "code",
   "execution_count": 4,
   "metadata": {},
   "outputs": [],
   "source": [
    "def alfa(f,x0,p):\n",
    "    \n",
    "    ro = 0.8\n",
    "    c = 0.0001\n",
    "    alpha = 1\n",
    "    \n",
    "    while f(x0 + alpha * p) > f(x0) + c * alpha * (grad(f,x0).T).dot(p):\n",
    "        \n",
    "        alpha = ro * alpha\n",
    "        \n",
    "    return alpha"
   ]
  },
  {
   "cell_type": "markdown",
   "metadata": {},
   "source": [
    "### Algoritmo 3.3: Para encontrar a $\\gamma$"
   ]
  },
  {
   "cell_type": "code",
   "execution_count": 5,
   "metadata": {},
   "outputs": [],
   "source": [
    "def calcula_gamma(A):\n",
    "    \n",
    "    k = 100\n",
    "    n = A.shape[0]\n",
    "    beta = 0.001\n",
    "    \n",
    "    diagonal = np.diagonal(A)\n",
    "    minimo = np.amin(diagonal)\n",
    "    \n",
    "    if minimo > 0:\n",
    "        gamma = 0\n",
    "    else:\n",
    "        gamma = -minimo + beta\n",
    "    #end if\n",
    "    \n",
    "    for i in range(k):    \n",
    "        \n",
    "        try:\n",
    "            np.linalg.cholesky(A + gamma * np.identity(n))\n",
    "        except np.linalg.LinAlgError:\n",
    "            gamma = max([2 * gamma, beta])\n",
    "        else:\n",
    "            break\n",
    "            \n",
    "    return gamma"
   ]
  },
  {
   "cell_type": "markdown",
   "metadata": {},
   "source": [
    "### Algoritmo 3.2: Método de Newton con modificación a la Hessiana"
   ]
  },
  {
   "cell_type": "code",
   "execution_count": 6,
   "metadata": {},
   "outputs": [],
   "source": [
    "def newton_mod(f,x0):\n",
    "    \n",
    "    k = 1000\n",
    "    n = x0.size\n",
    "    \n",
    "    for i in range(k):\n",
    "        \n",
    "        gamma = calcula_gamma(hess(f, x0))\n",
    "        B0 = hess(f, x0) + gamma * np.identity(n)\n",
    "        \n",
    "        p0 = -np.linalg.inv(B0).dot(grad(f,x0))        \n",
    "        alpha = alfa(f, x0, p0)\n",
    "        \n",
    "        x0 = x0 + alpha * p0\n",
    "        \n",
    "        #para ver si la función realmente decrece\n",
    "        #print(f(x0)) \n",
    "        \n",
    "    return x0"
   ]
  },
  {
   "cell_type": "markdown",
   "metadata": {},
   "source": [
    "###  Función de Rosenbrock"
   ]
  },
  {
   "cell_type": "code",
   "execution_count": 7,
   "metadata": {},
   "outputs": [],
   "source": [
    "def rosenbrock(x0):\n",
    "    \n",
    "    a = 1\n",
    "    b = 100\n",
    "    \n",
    "    return (a - x0[0]) ** 2 + b * (x0[1] - x0[0] ** 2) ** 2"
   ]
  },
  {
   "cell_type": "markdown",
   "metadata": {},
   "source": [
    "### Pruebas"
   ]
  },
  {
   "cell_type": "markdown",
   "metadata": {},
   "source": [
    "###### El mínimo de la función de Rosenbrock se encuentra en $(a, a^2)$. \n",
    "###### Para las siguientes pruebas se utiliza a = 1 y b = 100, por lo que el resultado que obtengamos debe de estar cercano a (1,1)"
   ]
  },
  {
   "cell_type": "code",
   "execution_count": 8,
   "metadata": {},
   "outputs": [
    {
     "data": {
      "text/plain": [
       "array([0.99701189, 0.9940277 ])"
      ]
     },
     "execution_count": 8,
     "metadata": {},
     "output_type": "execute_result"
    }
   ],
   "source": [
    "x0 = np.array([1.5,1.5])\n",
    "\n",
    "newton_mod(rosenbrock, x0)"
   ]
  },
  {
   "cell_type": "code",
   "execution_count": 9,
   "metadata": {},
   "outputs": [
    {
     "data": {
      "text/plain": [
       "array([0.99975837, 0.99950485])"
      ]
     },
     "execution_count": 9,
     "metadata": {},
     "output_type": "execute_result"
    }
   ],
   "source": [
    "x0 = np.array([2,-2])\n",
    "\n",
    "newton_mod(rosenbrock, x0)"
   ]
  },
  {
   "cell_type": "code",
   "execution_count": 10,
   "metadata": {},
   "outputs": [
    {
     "data": {
      "text/plain": [
       "array([0.99769669, 0.99539032])"
      ]
     },
     "execution_count": 10,
     "metadata": {},
     "output_type": "execute_result"
    }
   ],
   "source": [
    "x0 = np.array([22,50])\n",
    "\n",
    "newton_mod(rosenbrock, x0)"
   ]
  },
  {
   "cell_type": "code",
   "execution_count": 11,
   "metadata": {},
   "outputs": [
    {
     "data": {
      "text/plain": [
       "array([0.99700991, 0.99402376])"
      ]
     },
     "execution_count": 11,
     "metadata": {},
     "output_type": "execute_result"
    }
   ],
   "source": [
    "x0 = np.array([-0.5,0.8])\n",
    "\n",
    "newton_mod(rosenbrock, x0)"
   ]
  },
  {
   "cell_type": "markdown",
   "metadata": {},
   "source": [
    "##### Para las siguientes pruebas se definirá la función de Rosenbrock con a = 4 y b = 50, por lo que el mínimo se encuentra en (4, 16)"
   ]
  },
  {
   "cell_type": "code",
   "execution_count": 12,
   "metadata": {},
   "outputs": [],
   "source": [
    "def rosenbrock(x0):\n",
    "    \n",
    "    a = 4\n",
    "    b = 50\n",
    "    \n",
    "    return (a - x0[0]) ** 2 + b * (x0[1] - x0[0] ** 2) ** 2"
   ]
  },
  {
   "cell_type": "code",
   "execution_count": 13,
   "metadata": {},
   "outputs": [
    {
     "data": {
      "text/plain": [
       "array([ 3.98265548, 15.86153535])"
      ]
     },
     "execution_count": 13,
     "metadata": {},
     "output_type": "execute_result"
    }
   ],
   "source": [
    "x0 = np.array([4.5,50])\n",
    "\n",
    "newton_mod(rosenbrock, x0)"
   ]
  },
  {
   "cell_type": "code",
   "execution_count": 14,
   "metadata": {},
   "outputs": [
    {
     "data": {
      "text/plain": [
       "array([ 3.98603482, 15.88843262])"
      ]
     },
     "execution_count": 14,
     "metadata": {},
     "output_type": "execute_result"
    }
   ],
   "source": [
    "x0 = np.array([22,50])\n",
    "\n",
    "newton_mod(rosenbrock, x0)"
   ]
  },
  {
   "cell_type": "code",
   "execution_count": 15,
   "metadata": {},
   "outputs": [
    {
     "data": {
      "text/plain": [
       "array([ 3.98214639, 15.85748491])"
      ]
     },
     "execution_count": 15,
     "metadata": {},
     "output_type": "execute_result"
    }
   ],
   "source": [
    "x0 = np.array([3,5])\n",
    "\n",
    "newton_mod(rosenbrock, x0)"
   ]
  },
  {
   "cell_type": "code",
   "execution_count": 16,
   "metadata": {},
   "outputs": [
    {
     "data": {
      "text/plain": [
       "array([ 3.98214639, 15.85748491])"
      ]
     },
     "execution_count": 16,
     "metadata": {},
     "output_type": "execute_result"
    }
   ],
   "source": [
    "x0 = np.array([-10,100])\n",
    "\n",
    "newton_mod(rosenbrock, x0)"
   ]
  }
 ],
 "metadata": {
  "kernelspec": {
   "display_name": "Python 3",
   "language": "python",
   "name": "python3"
  },
  "language_info": {
   "codemirror_mode": {
    "name": "ipython",
    "version": 3
   },
   "file_extension": ".py",
   "mimetype": "text/x-python",
   "name": "python",
   "nbconvert_exporter": "python",
   "pygments_lexer": "ipython3",
   "version": "3.8.5"
  }
 },
 "nbformat": 4,
 "nbformat_minor": 4
}
