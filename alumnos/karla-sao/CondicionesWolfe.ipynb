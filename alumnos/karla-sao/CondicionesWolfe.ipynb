{
 "cells": [
  {
   "cell_type": "code",
   "execution_count": 10,
   "metadata": {},
   "outputs": [],
   "source": [
    "import numpy as np"
   ]
  },
  {
   "cell_type": "code",
   "execution_count": 11,
   "metadata": {},
   "outputs": [],
   "source": [
    "#Calcula el gradiente de una funcion f en el punto x0\n",
    "\n",
    "#f es una funcion\n",
    "#x0 es el punto donde se va a evaluar la funcion\n",
    "\n",
    "def gradiente(f, x0):  \n",
    "    n = x0.size\n",
    "    grad = np.zeros(n)\n",
    "    epsilon = 1e-7\n",
    "    \n",
    "    for i in range(n):\n",
    "        t = np.zeros(n)\n",
    "        t[i] = epsilon \n",
    "        x1 = x0 + t\n",
    "        \n",
    "        grad[i] = (f(x1) - f(x0)) / epsilon\n",
    "        \n",
    "    return grad"
   ]
  },
  {
   "cell_type": "markdown",
   "metadata": {},
   "source": [
    "#### Condiciones de Wolf"
   ]
  },
  {
   "cell_type": "code",
   "execution_count": 1,
   "metadata": {},
   "outputs": [],
   "source": [
    "#La funcion nos dice si alpha cumple con las condiciones de Wolf\n",
    "#Regresa True si las cumple, y False si no\n",
    "\n",
    "#f es una funcion\n",
    "#x0 es el punto donde se evalua la funcion\n",
    "#P es la direccion de descenso \n",
    "#alpha es el tamaño del paso\n",
    "\n",
    "def Wolf(f, x0, P, alpha):\n",
    "    \n",
    "    c1 = 1e-5\n",
    "    c2 = 1e-4\n",
    "    x1 = x0 + alpha * P\n",
    "    \n",
    "    grad1 = gradiente(f, x0)\n",
    "    grad2 = gradiente(f, x1)\n",
    "    \n",
    "                #Condicion de Armijo                               #Condicion de Curvatura\n",
    "    if (f(x1) <= (f(x0) * c1 * alpha * grad1.T.dot(P))) and ((grad2.T.dot(P)) >= (c2 * grad1.T.dot(P))):\n",
    "        return True\n",
    "    else:\n",
    "        return False\n",
    "    "
   ]
  },
  {
   "cell_type": "markdown",
   "metadata": {},
   "source": [
    "#### Condiciones fuertes de Wolfe"
   ]
  },
  {
   "cell_type": "code",
   "execution_count": 2,
   "metadata": {},
   "outputs": [],
   "source": [
    "#La funcion nos dice si alpha cumple con las condiciones fuertes de Wolf\n",
    "#Regresa True si las cumple, y False si no\n",
    "\n",
    "#f es una funcion\n",
    "#x0 es el punto donde se evalua la funcion\n",
    "#P es la direccion de descenso \n",
    "#alpha es el tamaño del paso\n",
    "\n",
    "def WolfFuerte(f, x0, P, alpha):\n",
    "    \n",
    "    resp = 0\n",
    "    c1 = 1e-5\n",
    "    c2 = 1e-4\n",
    "    x1 = x0 + alpha * P\n",
    "    \n",
    "    grad1 = gradiente(f, x0)\n",
    "    grad2 = gradiente(f, x1)\n",
    "    \n",
    "             #Condicion de Armijo                                     #Condicion de Curvatura\n",
    "    if (f(x1) <= (f(x0) * c1 * alpha * grad1.T.dot(P))) and ((np.absolute(grad2)) >= (c2 * np.abs(grad1.T.dot(P)))):\n",
    "        return True\n",
    "    else:\n",
    "        return False\n",
    "    "
   ]
  },
  {
   "cell_type": "code",
   "execution_count": null,
   "metadata": {},
   "outputs": [],
   "source": []
  }
 ],
 "metadata": {
  "kernelspec": {
   "display_name": "Python 3",
   "language": "python",
   "name": "python3"
  },
  "language_info": {
   "codemirror_mode": {
    "name": "ipython",
    "version": 3
   },
   "file_extension": ".py",
   "mimetype": "text/x-python",
   "name": "python",
   "nbconvert_exporter": "python",
   "pygments_lexer": "ipython3",
   "version": "3.8.5"
  }
 },
 "nbformat": 4,
 "nbformat_minor": 4
}
