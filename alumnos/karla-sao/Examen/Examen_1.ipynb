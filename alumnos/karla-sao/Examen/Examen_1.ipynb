{
 "cells": [
  {
   "cell_type": "code",
   "execution_count": 1,
   "metadata": {},
   "outputs": [],
   "source": [
    "import numpy as np\n",
    "import csv"
   ]
  },
  {
   "cell_type": "code",
   "execution_count": 2,
   "metadata": {},
   "outputs": [
    {
     "ename": "ValueError",
     "evalue": "could not convert string to float: 'lat'",
     "output_type": "error",
     "traceback": [
      "\u001b[0;31m--------------------------------------------------------------------------\u001b[0m",
      "\u001b[0;31mValueError\u001b[0m                               Traceback (most recent call last)",
      "\u001b[0;32m<ipython-input-2-2ac35b495adb>\u001b[0m in \u001b[0;36m<module>\u001b[0;34m\u001b[0m\n\u001b[1;32m     11\u001b[0m \u001b[0;34m\u001b[0m\u001b[0m\n\u001b[1;32m     12\u001b[0m     \u001b[0;32mfor\u001b[0m \u001b[0mi\u001b[0m \u001b[0;32min\u001b[0m \u001b[0mrange\u001b[0m \u001b[0;34m(\u001b[0m\u001b[0;36m51057\u001b[0m\u001b[0;34m)\u001b[0m\u001b[0;34m:\u001b[0m\u001b[0;34m\u001b[0m\u001b[0;34m\u001b[0m\u001b[0m\n\u001b[0;32m---> 13\u001b[0;31m         \u001b[0mdata\u001b[0m\u001b[0;34m.\u001b[0m\u001b[0mappend\u001b[0m\u001b[0;34m(\u001b[0m\u001b[0mnp\u001b[0m\u001b[0;34m.\u001b[0m\u001b[0marray\u001b[0m\u001b[0;34m(\u001b[0m\u001b[0mrows\u001b[0m\u001b[0;34m[\u001b[0m\u001b[0mi\u001b[0m\u001b[0;34m]\u001b[0m\u001b[0;34m[\u001b[0m\u001b[0;36m3\u001b[0m\u001b[0;34m:\u001b[0m\u001b[0;34m]\u001b[0m\u001b[0;34m,\u001b[0m \u001b[0mdtype\u001b[0m \u001b[0;34m=\u001b[0m \u001b[0mfloat\u001b[0m\u001b[0;34m)\u001b[0m\u001b[0;34m)\u001b[0m\u001b[0;34m\u001b[0m\u001b[0;34m\u001b[0m\u001b[0m\n\u001b[0m",
      "\u001b[0;31mValueError\u001b[0m: could not convert string to float: 'lat'"
     ]
    }
   ],
   "source": [
    "#Abrir el archivo de datos\n",
    "\n",
    "with open('crime_data.csv', 'r') as file:\n",
    "    reader = csv.reader(file)\n",
    "    \n",
    "    rows = []\n",
    "    data = []\n",
    "    \n",
    "    for row in reader:\n",
    "        rows.append(row)\n",
    "        \n",
    "    for i in range (51057):\n",
    "        data.append(np.array(rows[i][3:], dtype = float))"
   ]
  },
  {
   "cell_type": "code",
   "execution_count": 3,
   "metadata": {},
   "outputs": [],
   "source": [
    "#Funciones del proyecto a utilizar \n",
    "def grad(f, x0):\n",
    "    \n",
    "    n = x0.size\n",
    "    eps = 0.00001\n",
    "    res = np.zeros(n)\n",
    "    \n",
    "    for i in range(n):\n",
    "        aux = np.zeros(n)\n",
    "        aux[i] = eps\n",
    "        x1 = x0 + aux\n",
    "        res[i] = (f(x1) - f(x0)) / eps   \n",
    "        \n",
    "    return res"
   ]
  },
  {
   "cell_type": "code",
   "execution_count": 4,
   "metadata": {},
   "outputs": [],
   "source": [
    "def hess(f,x0):\n",
    "    \n",
    "    n = x0.size\n",
    "    eps = 0.00001\n",
    "    res = np.zeros((n,n))\n",
    "    \n",
    "    for i in range(n):\n",
    "        \n",
    "        aux = np.zeros(n)\n",
    "        aux[i] = eps\n",
    "        x1 = x0 + aux\n",
    "        res[:,i] = (grad(f,x1) - grad(f,x0)) / eps\n",
    "        \n",
    "    return res"
   ]
  },
  {
   "cell_type": "code",
   "execution_count": 5,
   "metadata": {},
   "outputs": [],
   "source": [
    "def alfa(f,x0,p):\n",
    "    \n",
    "    ro = 0.8\n",
    "    c = 0.0001\n",
    "    alpha = 1\n",
    "    \n",
    "    while f(x0 + alpha * p) > f(x0) + c * alpha * (grad(f,x0).T).dot(p):\n",
    "        \n",
    "        alpha = ro * alpha\n",
    "        \n",
    "    return alpha"
   ]
  },
  {
   "cell_type": "code",
   "execution_count": 6,
   "metadata": {},
   "outputs": [],
   "source": [
    "def calcula_gamma(A):\n",
    "    \n",
    "    k = 100\n",
    "    n = A.shape[0]\n",
    "    beta = 0.001\n",
    "    \n",
    "    diagonal = np.diagonal(A)\n",
    "    minimo = np.amin(diagonal)\n",
    "    \n",
    "    if minimo > 0:\n",
    "        gamma = 0\n",
    "    else:\n",
    "        gamma = -minimo + beta\n",
    "    #end if\n",
    "    \n",
    "    for i in range(k):    \n",
    "        \n",
    "        try:\n",
    "            np.linalg.cholesky(A + gamma * np.identity(n))\n",
    "        except np.linalg.LinAlgError:\n",
    "            gamma = max([2 * gamma, beta])\n",
    "        else:\n",
    "            break\n",
    "            \n",
    "    return gamma"
   ]
  },
  {
   "cell_type": "code",
   "execution_count": 7,
   "metadata": {},
   "outputs": [],
   "source": [
    "def newton_mod(f,x0):\n",
    "    \n",
    "    k = 1000\n",
    "    n = x0.size\n",
    "    \n",
    "    for i in range(k):\n",
    "        \n",
    "        gamma = calcula_gamma(hess(f, x0))\n",
    "        B0 = hess(f, x0) + gamma * np.identity(n)\n",
    "        \n",
    "        p0 = -np.linalg.inv(B0).dot(grad(f,x0))        \n",
    "        alpha = alfa(f, x0, p0)\n",
    "        \n",
    "        x0 = x0 + alpha * p0\n",
    "        \n",
    "        #para ver si la función realmente decrece\n",
    "        #print(f(x0)) \n",
    "        \n",
    "    return x0"
   ]
  },
  {
   "cell_type": "code",
   "execution_count": 8,
   "metadata": {},
   "outputs": [],
   "source": [
    "def ubicacion_camaras(data):\n",
    "    \n",
    "    n = 8000 #Número de cámaras\n",
    "    m = 31057 #Número de delitos\n",
    "    c = np.zeros((n,2)) #Matriz de las ubicaciones, la primera entrada es para la latitud y la segunda para la longitud\n",
    "    \n",
    "    for i in range (n):\n",
    "        for j in range (m):\n",
    "            c1 = np.array([0,0]) #Ubicación inicial \n",
    "            c[i,:] = newton_mod(np.linalg,norm(d[j],c),c1)\n",
    "    \n",
    "    return c"
   ]
  }
 ],
 "metadata": {
  "kernelspec": {
   "display_name": "Python 3",
   "language": "python",
   "name": "python3"
  },
  "language_info": {
   "codemirror_mode": {
    "name": "ipython",
    "version": 3
   },
   "file_extension": ".py",
   "mimetype": "text/x-python",
   "name": "python",
   "nbconvert_exporter": "python",
   "pygments_lexer": "ipython3",
   "version": "3.8.5"
  }
 },
 "nbformat": 4,
 "nbformat_minor": 4
}
