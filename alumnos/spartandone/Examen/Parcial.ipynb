{
 "cells": [
  {
   "cell_type": "code",
   "execution_count": 5,
   "metadata": {},
   "outputs": [],
   "source": [
    "import pandas as pd\n",
    "import numpy as np"
   ]
  },
  {
   "cell_type": "code",
   "execution_count": 16,
   "metadata": {},
   "outputs": [],
   "source": [
    "#Posición de los delitos\n",
    "data = pd.read_csv('crime_data.csv')\n",
    "data.head()\n",
    "df=pd.DataFrame(data)\n",
    "d_x=df[df.columns[3]] #latitud de los delitos\n",
    "d_y=df[df.columns[4]] #longitud de los delitos"
   ]
  },
  {
   "cell_type": "code",
   "execution_count": 17,
   "metadata": {},
   "outputs": [],
   "source": [
    "#Posición de las cámaras\n",
    "data = pd.read_csv('x0.csv')\n",
    "data.head()\n",
    "df=pd.DataFrame(data)\n",
    "c_x=df[df.columns[0]]\n",
    "c_y=df[df.columns[1]]"
   ]
  },
  {
   "cell_type": "code",
   "execution_count": null,
   "metadata": {},
   "outputs": [],
   "source": [
    "def dist_min(delitos,camaras):\n",
    "    n=delitos.size\n",
    "    m=camaras.size\n",
    "    for i in range(n):\n",
    "        for j in range(m):\n",
    "            \n",
    "            (d_x[j]-c_x[i])**2 + (d_y[j]-c_y[i])**2"
   ]
  }
 ],
 "metadata": {
  "kernelspec": {
   "display_name": "Python 3",
   "language": "python",
   "name": "python3"
  },
  "language_info": {
   "codemirror_mode": {
    "name": "ipython",
    "version": 3
   },
   "file_extension": ".py",
   "mimetype": "text/x-python",
   "name": "python",
   "nbconvert_exporter": "python",
   "pygments_lexer": "ipython3",
   "version": "3.8.5"
  }
 },
 "nbformat": 4,
 "nbformat_minor": 4
}
