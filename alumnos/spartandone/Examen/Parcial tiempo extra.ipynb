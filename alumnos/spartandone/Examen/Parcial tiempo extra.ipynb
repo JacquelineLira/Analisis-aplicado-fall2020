{
 "cells": [
  {
   "cell_type": "code",
   "execution_count": 1,
   "metadata": {},
   "outputs": [],
   "source": [
    "import pandas as pd\n",
    "import numpy as np"
   ]
  },
  {
   "cell_type": "markdown",
   "metadata": {},
   "source": [
    "No se me ocurrió a tiempo (me fue mal en el otro examen entonces quedé estresado), entonces lo seguí intentando y creo que ya se me ocurrió algo"
   ]
  },
  {
   "cell_type": "code",
   "execution_count": 18,
   "metadata": {},
   "outputs": [
    {
     "name": "stdout",
     "output_type": "stream",
     "text": [
      "<class 'numpy.ndarray'>\n"
     ]
    }
   ],
   "source": [
    "#Posición de los delitos\n",
    "data = pd.read_csv('crime_data.csv')\n",
    "data.head()\n",
    "df=pd.DataFrame(data)\n",
    "d_x=df[df.columns[3]] #latitud de los delitos\n",
    "d_x = d_x.to_numpy()\n",
    "d_y=df[df.columns[4]] #longitud de los delitos\n",
    "d_y = d_y.to_numpy()"
   ]
  },
  {
   "cell_type": "code",
   "execution_count": 20,
   "metadata": {},
   "outputs": [],
   "source": [
    "#Posición de las cámaras\n",
    "#data = pd.read_csv('x0.csv')\n",
    "#data.head()\n",
    "#df=pd.DataFrame(data)\n",
    "#c_x=df[df.columns[1]] #latitud de las cámaras\n",
    "#c_x = d_x.to_numpy()\n",
    "#c_y=df[df.columns[2]] #longitud de las cámaras\n",
    "#c_y = c_y.to_numpy()\n",
    "\n",
    "\n",
    "#eso es si tuviéramos un archivo de la latitud y longitud de las cámaras. A falta de ello, tomemos unas aleatorios.\n",
    "min_lat= np.amin(d_x)\n",
    "max_lat = np.amax(d_x)\n",
    "min_long = np.amin(d_y)\n",
    "max_long = np.amax(d_y)\n",
    "c_x = np.random.uniform(low=min_lat, high=max_lat, size=(8000,))\n",
    "c_y = np.random.uniform(low=min_long, high=max_long, size=(8000,))\n"
   ]
  },
  {
   "cell_type": "code",
   "execution_count": 21,
   "metadata": {},
   "outputs": [],
   "source": [
    "def cam_cercana(delito_long, delito_lat, camaraS_long, camaraS_lat): #dado un delito, checo cuál es la distancia a la \n",
    "                                                                     #cámara más cercana\n",
    "    n=camaraS_long.size\n",
    "    aux = 1000000000\n",
    "    for i in range(n):\n",
    "        temp = (delito_long-camaraS_long[i])**2 + (delito_lat-camaraS_lat[i])**2\n",
    "        if temp < aux:\n",
    "            aux = temp\n",
    "    \n",
    "    return aux"
   ]
  },
  {
   "cell_type": "code",
   "execution_count": 22,
   "metadata": {},
   "outputs": [],
   "source": [
    "def f(delitoS_long, delitoS_lat, camaraS_long, camaraS_lat):\n",
    "    m = delitoS_long.size\n",
    "    suma = 0\n",
    "    for i in range(m):\n",
    "        suma = suma + cam_cercana(delitoS_long[i], delitoS_lat[i], camaraS_long, camaraS_lat)\n",
    "        \n",
    "    return suma"
   ]
  },
  {
   "cell_type": "code",
   "execution_count": 23,
   "metadata": {},
   "outputs": [
    {
     "ename": "KeyboardInterrupt",
     "evalue": "",
     "output_type": "error",
     "traceback": [
      "\u001b[0;31m---------------------------------------------------------------------------\u001b[0m",
      "\u001b[0;31mKeyboardInterrupt\u001b[0m                         Traceback (most recent call last)",
      "\u001b[0;32m<ipython-input-23-7bf7faa3afb1>\u001b[0m in \u001b[0;36m<module>\u001b[0;34m\u001b[0m\n\u001b[0;32m----> 1\u001b[0;31m \u001b[0mf\u001b[0m\u001b[0;34m(\u001b[0m\u001b[0md_x\u001b[0m\u001b[0;34m,\u001b[0m\u001b[0md_y\u001b[0m\u001b[0;34m,\u001b[0m\u001b[0mc_x\u001b[0m\u001b[0;34m,\u001b[0m\u001b[0mc_y\u001b[0m\u001b[0;34m)\u001b[0m\u001b[0;34m\u001b[0m\u001b[0;34m\u001b[0m\u001b[0m\n\u001b[0m",
      "\u001b[0;32m<ipython-input-22-b545f56a57ce>\u001b[0m in \u001b[0;36mf\u001b[0;34m(delitoS_long, delitoS_lat, camaraS_long, camaraS_lat)\u001b[0m\n\u001b[1;32m      3\u001b[0m     \u001b[0msuma\u001b[0m \u001b[0;34m=\u001b[0m \u001b[0;36m0\u001b[0m\u001b[0;34m\u001b[0m\u001b[0;34m\u001b[0m\u001b[0m\n\u001b[1;32m      4\u001b[0m     \u001b[0;32mfor\u001b[0m \u001b[0mi\u001b[0m \u001b[0;32min\u001b[0m \u001b[0mrange\u001b[0m\u001b[0;34m(\u001b[0m\u001b[0mm\u001b[0m\u001b[0;34m)\u001b[0m\u001b[0;34m:\u001b[0m\u001b[0;34m\u001b[0m\u001b[0;34m\u001b[0m\u001b[0m\n\u001b[0;32m----> 5\u001b[0;31m         \u001b[0msuma\u001b[0m \u001b[0;34m=\u001b[0m \u001b[0msuma\u001b[0m \u001b[0;34m+\u001b[0m \u001b[0mcam_cercana\u001b[0m\u001b[0;34m(\u001b[0m\u001b[0mdelitoS_long\u001b[0m\u001b[0;34m[\u001b[0m\u001b[0mi\u001b[0m\u001b[0;34m]\u001b[0m\u001b[0;34m,\u001b[0m \u001b[0mdelitoS_lat\u001b[0m\u001b[0;34m[\u001b[0m\u001b[0mi\u001b[0m\u001b[0;34m]\u001b[0m\u001b[0;34m,\u001b[0m \u001b[0mcamaraS_long\u001b[0m\u001b[0;34m,\u001b[0m \u001b[0mcamaraS_lat\u001b[0m\u001b[0;34m)\u001b[0m\u001b[0;34m\u001b[0m\u001b[0;34m\u001b[0m\u001b[0m\n\u001b[0m\u001b[1;32m      6\u001b[0m \u001b[0;34m\u001b[0m\u001b[0m\n\u001b[1;32m      7\u001b[0m     \u001b[0;32mreturn\u001b[0m \u001b[0msuma\u001b[0m\u001b[0;34m\u001b[0m\u001b[0;34m\u001b[0m\u001b[0m\n",
      "\u001b[0;32m<ipython-input-21-1275ec622d79>\u001b[0m in \u001b[0;36mcam_cercana\u001b[0;34m(delito_long, delito_lat, camaraS_long, camaraS_lat)\u001b[0m\n\u001b[1;32m      4\u001b[0m     \u001b[0maux\u001b[0m \u001b[0;34m=\u001b[0m \u001b[0;36m1000000000\u001b[0m\u001b[0;34m\u001b[0m\u001b[0;34m\u001b[0m\u001b[0m\n\u001b[1;32m      5\u001b[0m     \u001b[0;32mfor\u001b[0m \u001b[0mi\u001b[0m \u001b[0;32min\u001b[0m \u001b[0mrange\u001b[0m\u001b[0;34m(\u001b[0m\u001b[0mn\u001b[0m\u001b[0;34m)\u001b[0m\u001b[0;34m:\u001b[0m\u001b[0;34m\u001b[0m\u001b[0;34m\u001b[0m\u001b[0m\n\u001b[0;32m----> 6\u001b[0;31m         \u001b[0mtemp\u001b[0m \u001b[0;34m=\u001b[0m \u001b[0;34m(\u001b[0m\u001b[0mdelito_long\u001b[0m\u001b[0;34m-\u001b[0m\u001b[0mcamaraS_long\u001b[0m\u001b[0;34m[\u001b[0m\u001b[0mi\u001b[0m\u001b[0;34m]\u001b[0m\u001b[0;34m)\u001b[0m\u001b[0;34m**\u001b[0m\u001b[0;36m2\u001b[0m \u001b[0;34m+\u001b[0m \u001b[0;34m(\u001b[0m\u001b[0mdelito_lat\u001b[0m\u001b[0;34m-\u001b[0m\u001b[0mcamaraS_lat\u001b[0m\u001b[0;34m[\u001b[0m\u001b[0mi\u001b[0m\u001b[0;34m]\u001b[0m\u001b[0;34m)\u001b[0m\u001b[0;34m**\u001b[0m\u001b[0;36m2\u001b[0m\u001b[0;34m\u001b[0m\u001b[0;34m\u001b[0m\u001b[0m\n\u001b[0m\u001b[1;32m      7\u001b[0m         \u001b[0;32mif\u001b[0m \u001b[0mtemp\u001b[0m \u001b[0;34m<\u001b[0m \u001b[0maux\u001b[0m\u001b[0;34m:\u001b[0m\u001b[0;34m\u001b[0m\u001b[0;34m\u001b[0m\u001b[0m\n\u001b[1;32m      8\u001b[0m             \u001b[0maux\u001b[0m \u001b[0;34m=\u001b[0m \u001b[0mtemp\u001b[0m\u001b[0;34m\u001b[0m\u001b[0;34m\u001b[0m\u001b[0m\n",
      "\u001b[0;31mKeyboardInterrupt\u001b[0m: "
     ]
    }
   ],
   "source": [
    "f(d_x,d_y,c_x,c_y)"
   ]
  },
  {
   "cell_type": "code",
   "execution_count": null,
   "metadata": {},
   "outputs": [],
   "source": []
  }
 ],
 "metadata": {
  "kernelspec": {
   "display_name": "Python 3",
   "language": "python",
   "name": "python3"
  },
  "language_info": {
   "codemirror_mode": {
    "name": "ipython",
    "version": 3
   },
   "file_extension": ".py",
   "mimetype": "text/x-python",
   "name": "python",
   "nbconvert_exporter": "python",
   "pygments_lexer": "ipython3",
   "version": "3.8.5"
  }
 },
 "nbformat": 4,
 "nbformat_minor": 4
}
