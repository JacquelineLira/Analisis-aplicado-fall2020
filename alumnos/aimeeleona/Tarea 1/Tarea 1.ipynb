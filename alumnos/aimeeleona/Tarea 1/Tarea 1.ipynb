{
 "cells": [
  {
   "cell_type": "code",
   "execution_count": 2,
   "metadata": {},
   "outputs": [
    {
     "name": "stdout",
     "output_type": "stream",
     "text": [
      "1.19.2\n"
     ]
    }
   ],
   "source": [
    "    import numpy as np\n",
    "    print(np.__version__)"
   ]
  },
  {
   "cell_type": "code",
   "execution_count": 182,
   "metadata": {},
   "outputs": [],
   "source": [
    "# Primero hagamos una función (que es la que meteremos en el gradiente)\n",
    "def func1(x):\n",
    "    y = x[0]**2 + x[0]*x[1] + 3*x[2]**2\n",
    "    return y"
   ]
  },
  {
   "cell_type": "code",
   "execution_count": 296,
   "metadata": {},
   "outputs": [],
   "source": [
    "def gradiente(func,xk):\n",
    "    # Código que calcula el gradiente de la función f en el punto xk\n",
    "    cambio = .000001\n",
    "    n = len(xk)\n",
    "    grad = np.zeros(n)\n",
    "    \n",
    "    for i in range(1,n+1):\n",
    "        aux = xk.copy()\n",
    "        aux[i-1] = aux[i-1] + cambio\n",
    "        grad[i-1] = round((func(aux) - func(xk))/cambio,2)\n",
    "    \n",
    "    return np.matrix(grad)"
   ]
  },
  {
   "cell_type": "code",
   "execution_count": 252,
   "metadata": {
    "scrolled": true
   },
   "outputs": [
    {
     "data": {
      "text/plain": [
       "array([3., 1., 6.])"
      ]
     },
     "execution_count": 252,
     "metadata": {},
     "output_type": "execute_result"
    }
   ],
   "source": [
    "xk = np.array([1.0,1.0,1.0])\n",
    "gradiente(func1,xk)"
   ]
  },
  {
   "cell_type": "code",
   "execution_count": 314,
   "metadata": {},
   "outputs": [],
   "source": [
    "def hessiana(func,xk):\n",
    "    # Código que calcula la hessiana de la función f en el punto xk\n",
    "    cambio = .000001\n",
    "    n = len(xk)\n",
    "    hess = np.zeros((n,n))\n",
    "    \n",
    "    for i in range(1,n+1):\n",
    "        for j in range(1,n+1):\n",
    "            if i==j:\n",
    "                aux1 = xk.copy()\n",
    "                aux2 = xk.copy()\n",
    "                aux1[i-1] = aux1[i-1] + cambio\n",
    "                aux2[i-1] = aux2[i-1] - cambio\n",
    "                hess[i-1,j-1] = round((func(aux1)-2*func(xk)+func(aux2))/cambio**2,2)\n",
    "            else:\n",
    "                aux1 = xk.copy()\n",
    "                aux2 = xk.copy()\n",
    "                aux3 = xk.copy()\n",
    "                \n",
    "                aux1[i-1] = aux1[i-1] + cambio\n",
    "                aux1[j-1] = aux1[j-1] + cambio\n",
    "                \n",
    "                aux2[j-1] = aux2[j-1] + cambio\n",
    "                \n",
    "                aux3[i-1] = aux3[i-1] + cambio\n",
    "                \n",
    "                hess[i-1,j-1] = round((func(aux1)-func(aux2)-func(aux3)+func(xk))/cambio**2,2)\n",
    "                \n",
    "    return np.matrix(hess)"
   ]
  },
  {
   "cell_type": "code",
   "execution_count": 215,
   "metadata": {},
   "outputs": [
    {
     "data": {
      "text/plain": [
       "array([0., 0., 0.])"
      ]
     },
     "execution_count": 215,
     "metadata": {},
     "output_type": "execute_result"
    }
   ],
   "source": [
    "xk = np.array([1.0,1.0,1.0])\n",
    "hessiana(func1,xk)\n",
    "np.zeros(3)"
   ]
  },
  {
   "cell_type": "code",
   "execution_count": 237,
   "metadata": {},
   "outputs": [],
   "source": [
    "def condiciones_optimalidad(f,xk):\n",
    "    # Función que determina si cierto punto en la función cumple\n",
    "    # con las condiciones de optimalidad:\n",
    "    # 1. Gradiente 0\n",
    "    # 2. Hessiana semidefinida positiva\n",
    "    \n",
    "    n = len(xk)\n",
    "    \n",
    "    if all(gradiente(f,xk) == 0):\n",
    "        r = \"cumple gradiente 0\"\n",
    "    else:\n",
    "        r = \"no cumple gradiente 0\"\n",
    "    \n",
    "    # Ahora checaremos si todos los eigenvalores son positivos\n",
    "    # lo cual significa que es semidefinida positiva\n",
    "    eigen = np.linalg.eig(hessiana(f,xk))[0]\n",
    "    if all(eigen > 0):\n",
    "        r = r, \"cumple hessiana semidefinida positiva\"\n",
    "    else:\n",
    "        r = r, \"no cumple hessiana semidefinida positiva\"\n",
    "    \n",
    "    return r"
   ]
  },
  {
   "cell_type": "code",
   "execution_count": 321,
   "metadata": {},
   "outputs": [],
   "source": [
    "def mk(f,xk):\n",
    "    cambio = .000001\n",
    "    n = len(xk)\n",
    "    p = np.matrix(np.zeros((n,1)) + cambio)\n",
    "    mk = f(xk) + np.transpose(p)*np.transpose(gradiente(f,xk)) + .5*(np.transpose(p)*hessiana(f,xk))*p\n",
    "    return np.array(mk)"
   ]
  },
  {
   "cell_type": "code",
   "execution_count": 322,
   "metadata": {},
   "outputs": [
    {
     "data": {
      "text/plain": [
       "array([[5.00001]])"
      ]
     },
     "execution_count": 322,
     "metadata": {},
     "output_type": "execute_result"
    }
   ],
   "source": [
    "xk = np.array([1.0,1.0,1.0])\n",
    "mk(func1,xk)"
   ]
  }
 ],
 "metadata": {
  "kernelspec": {
   "display_name": "Python 3",
   "language": "python",
   "name": "python3"
  },
  "language_info": {
   "codemirror_mode": {
    "name": "ipython",
    "version": 3
   },
   "file_extension": ".py",
   "mimetype": "text/x-python",
   "name": "python",
   "nbconvert_exporter": "python",
   "pygments_lexer": "ipython3",
   "version": "3.8.5"
  }
 },
 "nbformat": 4,
 "nbformat_minor": 4
}
