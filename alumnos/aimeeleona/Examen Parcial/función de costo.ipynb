{
 "cells": [
  {
   "cell_type": "code",
   "execution_count": 4,
   "metadata": {},
   "outputs": [
    {
     "name": "stdout",
     "output_type": "stream",
     "text": [
      "1.19.2\n"
     ]
    }
   ],
   "source": [
    "import numpy as np\n",
    "import math\n",
    "print(np.__version__)"
   ]
  },
  {
   "cell_type": "code",
   "execution_count": 13,
   "metadata": {},
   "outputs": [],
   "source": [
    "# Primero haremos la función que calcule (para cada coordenada de delito) la distancia a la cámara más cercana\n",
    "# Los argumentos serán:\n",
    "\n",
    "# 1. la coordenada del delito (vector de dimensión 2)\n",
    "# 2. la matriz de dimensión 2x8000 con las coordenadas de las 8000 cámaras\n",
    "\n",
    "def distancia(delito,camaras):\n",
    "    # Regresará el mínimo de las distancias de \"delito\" a cada una de las 8000 cámaras\n",
    "    \n",
    "    # Creamos un vector de distancias:\n",
    "    \n",
    "    distancias = np.zeros(8000)\n",
    "    \n",
    "    for i in range(1,8001):\n",
    "        distancias[i-1] = math.sqrt((delito[0]-camaras[0,i-1])**2 + (delito[1]-camaras[1,i-1])**2)\n",
    "    \n",
    "    # Ahora solo resta tomar la mínima de estas distancias:\n",
    "    return np.amin(distancias) "
   ]
  },
  {
   "cell_type": "code",
   "execution_count": 15,
   "metadata": {},
   "outputs": [],
   "source": [
    "# Una vez definida la función de distancia de cada coordenada de delito a la cámara más cercana\n",
    "# haremos la función de costo, la cual consiste en la suma de las 31,057 distancias (función que\n",
    "# queremos minimizar)\n",
    "\n",
    "# Argumentos:\n",
    "# 1. matriz de 2x31057 con coordenadas de los delitos\n",
    "# 2. matriz de 2x8000 con coordenadas de las cámaras\n",
    "\n",
    "def costo(delitos,camaras):\n",
    "    costo = 0\n",
    "    for i in range(1,31058):\n",
    "        costo = costo + distancia(delitos[:,i-1],camaras)\n",
    "    \n",
    "    return costo"
   ]
  }
 ],
 "metadata": {
  "kernelspec": {
   "display_name": "Python 3",
   "language": "python",
   "name": "python3"
  },
  "language_info": {
   "codemirror_mode": {
    "name": "ipython",
    "version": 3
   },
   "file_extension": ".py",
   "mimetype": "text/x-python",
   "name": "python",
   "nbconvert_exporter": "python",
   "pygments_lexer": "ipython3",
   "version": "3.8.5"
  }
 },
 "nbformat": 4,
 "nbformat_minor": 4
}
